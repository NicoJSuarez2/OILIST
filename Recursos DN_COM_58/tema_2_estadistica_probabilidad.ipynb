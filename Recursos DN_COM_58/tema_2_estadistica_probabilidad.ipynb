{
 "cells": [
  {
   "attachments": {},
   "cell_type": "markdown",
   "metadata": {},
   "source": [
    "![title](./images/logo_nao_digital.png)"
   ]
  },
  {
   "attachments": {},
   "cell_type": "markdown",
   "metadata": {},
   "source": [
    "# Tema 2. Conceptos de estadística y probabilidad usando Python\n",
    "\n",
    "## 1. Objetivo\n",
    "\n",
    "Ahora que se ha integrado la data de Oilst, el equipo de `Brasil BI Consulting` puede analizar de los retrazos las órdenes de los cliente, así el objetivo de esta sección será comenzar dicho análisis incorporando elementos de estadística y probabilidad usando Python.\n",
    "\n",
    "## 2. Librerías de trabajo"
   ]
  },
  {
   "cell_type": "code",
   "execution_count": 2,
   "metadata": {},
   "outputs": [
    {
     "name": "stdout",
     "output_type": "stream",
     "text": [
      "Requirement already satisfied: matplotlib in c:\\users\\administrador\\appdata\\local\\programs\\python\\python310\\lib\\site-packages (3.8.4)\n",
      "Requirement already satisfied: pandas in c:\\users\\administrador\\appdata\\local\\programs\\python\\python310\\lib\\site-packages (2.2.2)\n",
      "Requirement already satisfied: contourpy>=1.0.1 in c:\\users\\administrador\\appdata\\local\\programs\\python\\python310\\lib\\site-packages (from matplotlib) (1.2.1)\n",
      "Requirement already satisfied: cycler>=0.10 in c:\\users\\administrador\\appdata\\local\\programs\\python\\python310\\lib\\site-packages (from matplotlib) (0.12.1)\n",
      "Requirement already satisfied: fonttools>=4.22.0 in c:\\users\\administrador\\appdata\\local\\programs\\python\\python310\\lib\\site-packages (from matplotlib) (4.51.0)\n",
      "Requirement already satisfied: kiwisolver>=1.3.1 in c:\\users\\administrador\\appdata\\local\\programs\\python\\python310\\lib\\site-packages (from matplotlib) (1.4.5)\n",
      "Requirement already satisfied: numpy>=1.21 in c:\\users\\administrador\\appdata\\local\\programs\\python\\python310\\lib\\site-packages (from matplotlib) (1.26.4)\n",
      "Requirement already satisfied: packaging>=20.0 in c:\\users\\administrador\\appdata\\roaming\\python\\python310\\site-packages (from matplotlib) (23.2)\n",
      "Requirement already satisfied: pillow>=8 in c:\\users\\administrador\\appdata\\local\\programs\\python\\python310\\lib\\site-packages (from matplotlib) (10.3.0)\n",
      "Requirement already satisfied: pyparsing>=2.3.1 in c:\\users\\administrador\\appdata\\local\\programs\\python\\python310\\lib\\site-packages (from matplotlib) (3.1.2)\n",
      "Requirement already satisfied: python-dateutil>=2.7 in c:\\users\\administrador\\appdata\\roaming\\python\\python310\\site-packages (from matplotlib) (2.8.2)\n",
      "Requirement already satisfied: pytz>=2020.1 in c:\\users\\administrador\\appdata\\local\\programs\\python\\python310\\lib\\site-packages (from pandas) (2024.1)\n",
      "Requirement already satisfied: tzdata>=2022.7 in c:\\users\\administrador\\appdata\\local\\programs\\python\\python310\\lib\\site-packages (from pandas) (2024.1)\n",
      "Requirement already satisfied: six>=1.5 in c:\\users\\administrador\\appdata\\roaming\\python\\python310\\site-packages (from python-dateutil>=2.7->matplotlib) (1.16.0)\n",
      "Note: you may need to restart the kernel to use updated packages.\n"
     ]
    },
    {
     "name": "stderr",
     "output_type": "stream",
     "text": [
      "\n",
      "[notice] A new release of pip is available: 23.3.2 -> 24.0\n",
      "[notice] To update, run: python.exe -m pip install --upgrade pip\n"
     ]
    }
   ],
   "source": [
    "# Instala libreria si no la tenemos\n",
    "%pip install matplotlib pandas "
   ]
  },
  {
   "cell_type": "code",
   "execution_count": 3,
   "metadata": {},
   "outputs": [],
   "source": [
    "import os\n",
    "import numpy as np\n",
    "import pandas as pd\n",
    "\n",
    "import matplotlib.pyplot as plt\n",
    "\n",
    "import warnings\n",
    "warnings.filterwarnings('ignore')"
   ]
  },
  {
   "attachments": {},
   "cell_type": "markdown",
   "metadata": {},
   "source": [
    "## 3. Lectura de datos\n",
    "\n",
    " Leeremos los datos, indicando a Python donde se encuentra la carpeta que se aloja los datos y los nombres de los archivos relevantes para el análisis."
   ]
  },
  {
   "cell_type": "code",
   "execution_count": 4,
   "metadata": {},
   "outputs": [],
   "source": [
    "# Primero indicamos la ruta a la carpeta de de tu computadora \n",
    "# donde se ubican los datos del E-commerce\n",
    "# Ejemplo: \"C:\\Usuarios\\[tu nombre]\\Descargas\"\n",
    "\n",
    "DATA_PATH= r\"C:\\Users\\Administrador\\Desktop\\DATos\\Ciclo 1\\Recursos DN_COM_58\""
   ]
  },
  {
   "attachments": {},
   "cell_type": "markdown",
   "metadata": {},
   "source": [
    "También usaremos el archivo consolidado de la lectura anterior:"
   ]
  },
  {
   "cell_type": "code",
   "execution_count": 5,
   "metadata": {},
   "outputs": [],
   "source": [
    "FILE_CONSOLIDATED_DATA = 'oilst_processed.csv'"
   ]
  },
  {
   "attachments": {},
   "cell_type": "markdown",
   "metadata": {},
   "source": [
    "Recordemos que algunas de las columnas que contienen fechas deben ser convertidas al formato correspondiente, lo cual se puede llevar a cabo de forma automática usando el parámetro de `parse_dates`:"
   ]
  },
  {
   "cell_type": "code",
   "execution_count": 6,
   "metadata": {},
   "outputs": [],
   "source": [
    "# Lista de columnas a interpretar como fecha\n",
    "columns_dates=[\n",
    "    'order_purchase_timestamp',\n",
    "    'order_approved_at',\n",
    "    'order_delivered_carrier_date',\n",
    "    'order_delivered_customer_date',\n",
    "    'order_estimated_delivery_date'\n",
    "    ]\n",
    "\n",
    "# Lectura del archivo csv\n",
    "oilst = pd.read_csv(\n",
    "    os.path.join(DATA_PATH, FILE_CONSOLIDATED_DATA),\n",
    "    parse_dates=columns_dates\n",
    "    )"
   ]
  },
  {
   "attachments": {},
   "cell_type": "markdown",
   "metadata": {},
   "source": [
    "## 4. Análisis Exploratorio De Datos\n",
    "\n",
    "### 4.1 Generalidades sobre la tabla"
   ]
  },
  {
   "attachments": {},
   "cell_type": "markdown",
   "metadata": {},
   "source": [
    "Nuevamente podemos ver la información de la tabla con el comando `.info`"
   ]
  },
  {
   "cell_type": "code",
   "execution_count": 7,
   "metadata": {},
   "outputs": [
    {
     "name": "stdout",
     "output_type": "stream",
     "text": [
      "<class 'pandas.core.frame.DataFrame'>\n",
      "RangeIndex: 99441 entries, 0 to 99440\n",
      "Data columns (total 28 columns):\n",
      " #   Column                         Non-Null Count  Dtype         \n",
      "---  ------                         --------------  -----         \n",
      " 0   order_id                       99441 non-null  object        \n",
      " 1   customer_id                    99441 non-null  object        \n",
      " 2   order_status                   99441 non-null  object        \n",
      " 3   order_purchase_timestamp       99441 non-null  datetime64[ns]\n",
      " 4   order_approved_at              99281 non-null  datetime64[ns]\n",
      " 5   order_delivered_carrier_date   97658 non-null  datetime64[ns]\n",
      " 6   order_delivered_customer_date  96476 non-null  datetime64[ns]\n",
      " 7   order_estimated_delivery_date  99441 non-null  datetime64[ns]\n",
      " 8   distance_distribution_center   96470 non-null  float64       \n",
      " 9   year                           99441 non-null  int64         \n",
      " 10  month                          99441 non-null  int64         \n",
      " 11  quarter                        99441 non-null  object        \n",
      " 12  year_month                     99441 non-null  object        \n",
      " 13  delta_days                     96476 non-null  float64       \n",
      " 14  delay_status                   99441 non-null  object        \n",
      " 15  total_products                 98666 non-null  float64       \n",
      " 16  total_sales                    98666 non-null  float64       \n",
      " 17  customer_unique_id             99441 non-null  object        \n",
      " 18  customer_zip_code_prefix       99441 non-null  int64         \n",
      " 19  customer_city                  99441 non-null  object        \n",
      " 20  customer_state                 99441 non-null  object        \n",
      " 21  geolocation_zip_code_prefix    99163 non-null  float64       \n",
      " 22  geolocation_lat                99163 non-null  float64       \n",
      " 23  geolocation_lng                99163 non-null  float64       \n",
      " 24  geolocation_city               99163 non-null  object        \n",
      " 25  geolocation_state              99163 non-null  object        \n",
      " 26  abbreviation                   99163 non-null  object        \n",
      " 27  state_name                     99163 non-null  object        \n",
      "dtypes: datetime64[ns](5), float64(7), int64(3), object(13)\n",
      "memory usage: 98.5 MB\n"
     ]
    }
   ],
   "source": [
    "oilst.info(memory_usage='deep')"
   ]
  },
  {
   "attachments": {},
   "cell_type": "markdown",
   "metadata": {},
   "source": [
    "Podemos revisar las columnas de nuestra tabla el comando `.columns`, que devuelve las columnas como un array:"
   ]
  },
  {
   "cell_type": "code",
   "execution_count": 8,
   "metadata": {},
   "outputs": [
    {
     "data": {
      "text/plain": [
       "Index(['order_id', 'customer_id', 'order_status', 'order_purchase_timestamp',\n",
       "       'order_approved_at', 'order_delivered_carrier_date',\n",
       "       'order_delivered_customer_date', 'order_estimated_delivery_date',\n",
       "       'distance_distribution_center', 'year', 'month', 'quarter',\n",
       "       'year_month', 'delta_days', 'delay_status', 'total_products',\n",
       "       'total_sales', 'customer_unique_id', 'customer_zip_code_prefix',\n",
       "       'customer_city', 'customer_state', 'geolocation_zip_code_prefix',\n",
       "       'geolocation_lat', 'geolocation_lng', 'geolocation_city',\n",
       "       'geolocation_state', 'abbreviation', 'state_name'],\n",
       "      dtype='object')"
      ]
     },
     "execution_count": 8,
     "metadata": {},
     "output_type": "execute_result"
    }
   ],
   "source": [
    "oilst.columns"
   ]
  },
  {
   "attachments": {},
   "cell_type": "markdown",
   "metadata": {},
   "source": [
    "**Pregunta:**\n",
    "\n",
    "* ¿Cuantas columnas tiene la tabla? \n",
    "* ¿Cuánto espacio ocupa en memoria?"
   ]
  },
  {
   "cell_type": "code",
   "execution_count": 9,
   "metadata": {},
   "outputs": [
    {
     "name": "stdout",
     "output_type": "stream",
     "text": [
      "la tabla tiene 28 columnas la tabla consume 103237453 bytes\n"
     ]
    }
   ],
   "source": [
    "print('la tabla tiene',oilst.shape[1],'columnas',\n",
    "      'la tabla consume', oilst.memory_usage(deep=True).sum(), 'bytes')"
   ]
  },
  {
   "attachments": {},
   "cell_type": "markdown",
   "metadata": {},
   "source": [
    "### 4.2 Explorando columnas\n",
    "\n",
    "#### 4.2.1 Una sola columna\n",
    "\n",
    "Las columnas individuales de un dataframe de Pandas se pueden acceder de dos formas distintas: 1) usando el nombre la columna con corchetes después del nombre de dataframe, es decir `oilst['nombre_columna']` , 2) o bien, separando el nombre del dataframe y su columna por un punto `oilst.nombre_columna`. Como se puede ver a continuación:"
   ]
  },
  {
   "cell_type": "code",
   "execution_count": 10,
   "metadata": {},
   "outputs": [
    {
     "data": {
      "text/plain": [
       "0         29.99\n",
       "1        118.70\n",
       "2        159.90\n",
       "3         45.00\n",
       "4         19.90\n",
       "          ...  \n",
       "99436     72.00\n",
       "99437    174.90\n",
       "99438    205.99\n",
       "99439    359.98\n",
       "99440     68.50\n",
       "Name: total_sales, Length: 99441, dtype: float64"
      ]
     },
     "execution_count": 10,
     "metadata": {},
     "output_type": "execute_result"
    }
   ],
   "source": [
    "oilst['total_sales']"
   ]
  },
  {
   "cell_type": "code",
   "execution_count": 11,
   "metadata": {},
   "outputs": [
    {
     "data": {
      "text/plain": [
       "0         29.99\n",
       "1        118.70\n",
       "2        159.90\n",
       "3         45.00\n",
       "4         19.90\n",
       "          ...  \n",
       "99436     72.00\n",
       "99437    174.90\n",
       "99438    205.99\n",
       "99439    359.98\n",
       "99440     68.50\n",
       "Name: total_sales, Length: 99441, dtype: float64"
      ]
     },
     "execution_count": 11,
     "metadata": {},
     "output_type": "execute_result"
    }
   ],
   "source": [
    "oilst.total_sales"
   ]
  },
  {
   "attachments": {},
   "cell_type": "markdown",
   "metadata": {},
   "source": [
    "En ambos casos se pueden realizar operaciones con ellas como arreglos tradicionales de Python. Es decir con sumas, restas, multiplicaciones y divisiones. Por ejemplo,se puede expresar las ventas en miles:"
   ]
  },
  {
   "cell_type": "code",
   "execution_count": 12,
   "metadata": {},
   "outputs": [
    {
     "data": {
      "text/plain": [
       "0        0.02999\n",
       "1        0.11870\n",
       "2        0.15990\n",
       "3        0.04500\n",
       "4        0.01990\n",
       "          ...   \n",
       "99436    0.07200\n",
       "99437    0.17490\n",
       "99438    0.20599\n",
       "99439    0.35998\n",
       "99440    0.06850\n",
       "Name: total_sales, Length: 99441, dtype: float64"
      ]
     },
     "execution_count": 12,
     "metadata": {},
     "output_type": "execute_result"
    }
   ],
   "source": [
    "# Ventas expresadas en miles\n",
    "oilst['total_sales']/1000"
   ]
  },
  {
   "attachments": {},
   "cell_type": "markdown",
   "metadata": {},
   "source": [
    "Además se pueden aplicar operaciones sobre las columnas, con los operadores `.sum, .mean, .std, .min, .max` y muchos más. Por ejemplo, la siguiente operación calcula la cantidad total de ventas de Oislt millones:"
   ]
  },
  {
   "cell_type": "code",
   "execution_count": 13,
   "metadata": {},
   "outputs": [
    {
     "data": {
      "text/plain": [
       "13.5916437"
      ]
     },
     "execution_count": 13,
     "metadata": {},
     "output_type": "execute_result"
    }
   ],
   "source": [
    "oilst['total_sales'].sum()/1000000"
   ]
  },
  {
   "attachments": {},
   "cell_type": "markdown",
   "metadata": {},
   "source": [
    "Otro operador de interés es `.unique`, pues permite entender cuales son los valores únicos presentes en una columna. Con éste, podemos saber cuales son todos los estatus de las órdenes que el equipo de ingeniería de datos del e-commerce nos dió."
   ]
  },
  {
   "cell_type": "code",
   "execution_count": 14,
   "metadata": {},
   "outputs": [
    {
     "data": {
      "text/plain": [
       "array(['delivered', 'invoiced', 'shipped', 'processing', 'unavailable',\n",
       "       'canceled', 'created', 'approved'], dtype=object)"
      ]
     },
     "execution_count": 14,
     "metadata": {},
     "output_type": "execute_result"
    }
   ],
   "source": [
    "oilst['order_status'].unique()"
   ]
  },
  {
   "attachments": {},
   "cell_type": "markdown",
   "metadata": {},
   "source": [
    "A su vez, el operador `.value_counts()` nos permite contar cuantas veces aparecen estos valores en cada categoría presente en cada columna:"
   ]
  },
  {
   "cell_type": "code",
   "execution_count": 15,
   "metadata": {},
   "outputs": [],
   "source": [
    "y=oilst['order_status'].value_counts()\n"
   ]
  },
  {
   "attachments": {},
   "cell_type": "markdown",
   "metadata": {},
   "source": [
    "**Preguntas***\n",
    "\n",
    "* ¿Porqué deberíamos centrar el análisis de las órdenes con retraso en la categoría `delivered`?\n",
    "* ¿Qué sucedería si incluyeramos órdenes con estatus distintos, por ejemplo, `processing` o `shipped`?\n",
    "* ¿Qué hace el operador `.value_counts(normalize=True)` sobre la columna `oilst['order_status']`?"
   ]
  },
  {
   "cell_type": "code",
   "execution_count": 16,
   "metadata": {},
   "outputs": [
    {
     "name": "stdout",
     "output_type": "stream",
     "text": [
      "la mayoria de datos son delivered\n",
      "los otros datos no son significativos para una analisis\n",
      "ponderisa\n"
     ]
    },
    {
     "data": {
      "text/plain": [
       "order_status\n",
       "delivered      0.970203\n",
       "shipped        0.011132\n",
       "canceled       0.006285\n",
       "unavailable    0.006124\n",
       "invoiced       0.003158\n",
       "processing     0.003027\n",
       "created        0.000050\n",
       "approved       0.000020\n",
       "Name: proportion, dtype: float64"
      ]
     },
     "execution_count": 16,
     "metadata": {},
     "output_type": "execute_result"
    }
   ],
   "source": [
    "print('la mayoria de datos son delivered')\n",
    "print('los otros datos no son significativos para una analisis')\n",
    "print('ponderisa')\n",
    "oilst['order_status'].value_counts(normalize=True)"
   ]
  },
  {
   "attachments": {},
   "cell_type": "markdown",
   "metadata": {},
   "source": [
    "#### 4.2.2 Varias columnas\n",
    "\n",
    "En complemento, Pandas también permite seleccionar varias columnas a la ves para llevar a cabo el análisis multivariado.\n",
    "\n",
    "Esencialmente, se pueden acceder de dos formas distintas: 1) usando una lista con los nombres de las columnas de nuestro interñes después del nombre de dataframe, es decir `oilst[['columna_1', 'columna_2', ..., 'columna_10']` , 2) o bien, usando el método `filter`, como sigue:"
   ]
  },
  {
   "cell_type": "code",
   "execution_count": 17,
   "metadata": {},
   "outputs": [
    {
     "data": {
      "text/html": [
       "<div>\n",
       "<style scoped>\n",
       "    .dataframe tbody tr th:only-of-type {\n",
       "        vertical-align: middle;\n",
       "    }\n",
       "\n",
       "    .dataframe tbody tr th {\n",
       "        vertical-align: top;\n",
       "    }\n",
       "\n",
       "    .dataframe thead th {\n",
       "        text-align: right;\n",
       "    }\n",
       "</style>\n",
       "<table border=\"1\" class=\"dataframe\">\n",
       "  <thead>\n",
       "    <tr style=\"text-align: right;\">\n",
       "      <th></th>\n",
       "      <th>total_sales</th>\n",
       "      <th>total_products</th>\n",
       "    </tr>\n",
       "  </thead>\n",
       "  <tbody>\n",
       "    <tr>\n",
       "      <th>0</th>\n",
       "      <td>29.99</td>\n",
       "      <td>1.0</td>\n",
       "    </tr>\n",
       "    <tr>\n",
       "      <th>1</th>\n",
       "      <td>118.70</td>\n",
       "      <td>1.0</td>\n",
       "    </tr>\n",
       "    <tr>\n",
       "      <th>2</th>\n",
       "      <td>159.90</td>\n",
       "      <td>1.0</td>\n",
       "    </tr>\n",
       "    <tr>\n",
       "      <th>3</th>\n",
       "      <td>45.00</td>\n",
       "      <td>1.0</td>\n",
       "    </tr>\n",
       "    <tr>\n",
       "      <th>4</th>\n",
       "      <td>19.90</td>\n",
       "      <td>1.0</td>\n",
       "    </tr>\n",
       "    <tr>\n",
       "      <th>...</th>\n",
       "      <td>...</td>\n",
       "      <td>...</td>\n",
       "    </tr>\n",
       "    <tr>\n",
       "      <th>99436</th>\n",
       "      <td>72.00</td>\n",
       "      <td>1.0</td>\n",
       "    </tr>\n",
       "    <tr>\n",
       "      <th>99437</th>\n",
       "      <td>174.90</td>\n",
       "      <td>1.0</td>\n",
       "    </tr>\n",
       "    <tr>\n",
       "      <th>99438</th>\n",
       "      <td>205.99</td>\n",
       "      <td>1.0</td>\n",
       "    </tr>\n",
       "    <tr>\n",
       "      <th>99439</th>\n",
       "      <td>359.98</td>\n",
       "      <td>2.0</td>\n",
       "    </tr>\n",
       "    <tr>\n",
       "      <th>99440</th>\n",
       "      <td>68.50</td>\n",
       "      <td>1.0</td>\n",
       "    </tr>\n",
       "  </tbody>\n",
       "</table>\n",
       "<p>99441 rows × 2 columns</p>\n",
       "</div>"
      ],
      "text/plain": [
       "       total_sales  total_products\n",
       "0            29.99             1.0\n",
       "1           118.70             1.0\n",
       "2           159.90             1.0\n",
       "3            45.00             1.0\n",
       "4            19.90             1.0\n",
       "...            ...             ...\n",
       "99436        72.00             1.0\n",
       "99437       174.90             1.0\n",
       "99438       205.99             1.0\n",
       "99439       359.98             2.0\n",
       "99440        68.50             1.0\n",
       "\n",
       "[99441 rows x 2 columns]"
      ]
     },
     "execution_count": 17,
     "metadata": {},
     "output_type": "execute_result"
    }
   ],
   "source": [
    "oilst[['total_sales','total_products']]"
   ]
  },
  {
   "cell_type": "code",
   "execution_count": 18,
   "metadata": {},
   "outputs": [
    {
     "data": {
      "text/html": [
       "<div>\n",
       "<style scoped>\n",
       "    .dataframe tbody tr th:only-of-type {\n",
       "        vertical-align: middle;\n",
       "    }\n",
       "\n",
       "    .dataframe tbody tr th {\n",
       "        vertical-align: top;\n",
       "    }\n",
       "\n",
       "    .dataframe thead th {\n",
       "        text-align: right;\n",
       "    }\n",
       "</style>\n",
       "<table border=\"1\" class=\"dataframe\">\n",
       "  <thead>\n",
       "    <tr style=\"text-align: right;\">\n",
       "      <th></th>\n",
       "      <th>total_sales</th>\n",
       "      <th>total_products</th>\n",
       "    </tr>\n",
       "  </thead>\n",
       "  <tbody>\n",
       "    <tr>\n",
       "      <th>0</th>\n",
       "      <td>29.99</td>\n",
       "      <td>1.0</td>\n",
       "    </tr>\n",
       "    <tr>\n",
       "      <th>1</th>\n",
       "      <td>118.70</td>\n",
       "      <td>1.0</td>\n",
       "    </tr>\n",
       "    <tr>\n",
       "      <th>2</th>\n",
       "      <td>159.90</td>\n",
       "      <td>1.0</td>\n",
       "    </tr>\n",
       "    <tr>\n",
       "      <th>3</th>\n",
       "      <td>45.00</td>\n",
       "      <td>1.0</td>\n",
       "    </tr>\n",
       "    <tr>\n",
       "      <th>4</th>\n",
       "      <td>19.90</td>\n",
       "      <td>1.0</td>\n",
       "    </tr>\n",
       "    <tr>\n",
       "      <th>...</th>\n",
       "      <td>...</td>\n",
       "      <td>...</td>\n",
       "    </tr>\n",
       "    <tr>\n",
       "      <th>99436</th>\n",
       "      <td>72.00</td>\n",
       "      <td>1.0</td>\n",
       "    </tr>\n",
       "    <tr>\n",
       "      <th>99437</th>\n",
       "      <td>174.90</td>\n",
       "      <td>1.0</td>\n",
       "    </tr>\n",
       "    <tr>\n",
       "      <th>99438</th>\n",
       "      <td>205.99</td>\n",
       "      <td>1.0</td>\n",
       "    </tr>\n",
       "    <tr>\n",
       "      <th>99439</th>\n",
       "      <td>359.98</td>\n",
       "      <td>2.0</td>\n",
       "    </tr>\n",
       "    <tr>\n",
       "      <th>99440</th>\n",
       "      <td>68.50</td>\n",
       "      <td>1.0</td>\n",
       "    </tr>\n",
       "  </tbody>\n",
       "</table>\n",
       "<p>99441 rows × 2 columns</p>\n",
       "</div>"
      ],
      "text/plain": [
       "       total_sales  total_products\n",
       "0            29.99             1.0\n",
       "1           118.70             1.0\n",
       "2           159.90             1.0\n",
       "3            45.00             1.0\n",
       "4            19.90             1.0\n",
       "...            ...             ...\n",
       "99436        72.00             1.0\n",
       "99437       174.90             1.0\n",
       "99438       205.99             1.0\n",
       "99439       359.98             2.0\n",
       "99440        68.50             1.0\n",
       "\n",
       "[99441 rows x 2 columns]"
      ]
     },
     "execution_count": 18,
     "metadata": {},
     "output_type": "execute_result"
    }
   ],
   "source": [
    "oilst.filter(['total_sales','total_products'])"
   ]
  },
  {
   "attachments": {},
   "cell_type": "markdown",
   "metadata": {},
   "source": [
    "En ambos casos, se pueden usar los operadores que hemos visto, por ejemplo para calcular el promedio de ventas y productos en las órdenes:"
   ]
  },
  {
   "cell_type": "code",
   "execution_count": 19,
   "metadata": {},
   "outputs": [
    {
     "data": {
      "text/plain": [
       "total_sales       137.754076\n",
       "total_products      1.141731\n",
       "dtype: float64"
      ]
     },
     "execution_count": 19,
     "metadata": {},
     "output_type": "execute_result"
    }
   ],
   "source": [
    "oilst[['total_sales','total_products']].mean()"
   ]
  },
  {
   "attachments": {},
   "cell_type": "markdown",
   "metadata": {},
   "source": [
    "**Pregunta:**\n",
    "\n",
    "* ¿Cómo podemos interpretar el promedio de la variable `total_products`?,\n",
    "* Lo anterior, ¿dice algo respecto a la cantidad de productos que suelen llevar los clientes en una compra?\n",
    "* ¿Qué se puede apreciar sobre la cantidad de productos  que la gente compra si aplicamos el método `.describe` a `oilst[['total_sales','total_products']]`?"
   ]
  },
  {
   "cell_type": "code",
   "execution_count": 20,
   "metadata": {},
   "outputs": [
    {
     "name": "stdout",
     "output_type": "stream",
     "text": [
      "el cliente gasta al rededor de  137.75407637889447 reales\n",
      "las personas compran 1.1417306873695092\n"
     ]
    },
    {
     "data": {
      "text/html": [
       "<div>\n",
       "<style scoped>\n",
       "    .dataframe tbody tr th:only-of-type {\n",
       "        vertical-align: middle;\n",
       "    }\n",
       "\n",
       "    .dataframe tbody tr th {\n",
       "        vertical-align: top;\n",
       "    }\n",
       "\n",
       "    .dataframe thead th {\n",
       "        text-align: right;\n",
       "    }\n",
       "</style>\n",
       "<table border=\"1\" class=\"dataframe\">\n",
       "  <thead>\n",
       "    <tr style=\"text-align: right;\">\n",
       "      <th></th>\n",
       "      <th>total_sales</th>\n",
       "      <th>total_products</th>\n",
       "    </tr>\n",
       "  </thead>\n",
       "  <tbody>\n",
       "    <tr>\n",
       "      <th>count</th>\n",
       "      <td>98666.000000</td>\n",
       "      <td>98666.000000</td>\n",
       "    </tr>\n",
       "    <tr>\n",
       "      <th>mean</th>\n",
       "      <td>137.754076</td>\n",
       "      <td>1.141731</td>\n",
       "    </tr>\n",
       "    <tr>\n",
       "      <th>std</th>\n",
       "      <td>210.645145</td>\n",
       "      <td>0.538452</td>\n",
       "    </tr>\n",
       "    <tr>\n",
       "      <th>min</th>\n",
       "      <td>0.850000</td>\n",
       "      <td>1.000000</td>\n",
       "    </tr>\n",
       "    <tr>\n",
       "      <th>25%</th>\n",
       "      <td>45.900000</td>\n",
       "      <td>1.000000</td>\n",
       "    </tr>\n",
       "    <tr>\n",
       "      <th>50%</th>\n",
       "      <td>86.900000</td>\n",
       "      <td>1.000000</td>\n",
       "    </tr>\n",
       "    <tr>\n",
       "      <th>75%</th>\n",
       "      <td>149.900000</td>\n",
       "      <td>1.000000</td>\n",
       "    </tr>\n",
       "    <tr>\n",
       "      <th>max</th>\n",
       "      <td>13440.000000</td>\n",
       "      <td>21.000000</td>\n",
       "    </tr>\n",
       "  </tbody>\n",
       "</table>\n",
       "</div>"
      ],
      "text/plain": [
       "        total_sales  total_products\n",
       "count  98666.000000    98666.000000\n",
       "mean     137.754076        1.141731\n",
       "std      210.645145        0.538452\n",
       "min        0.850000        1.000000\n",
       "25%       45.900000        1.000000\n",
       "50%       86.900000        1.000000\n",
       "75%      149.900000        1.000000\n",
       "max    13440.000000       21.000000"
      ]
     },
     "execution_count": 20,
     "metadata": {},
     "output_type": "execute_result"
    }
   ],
   "source": [
    "print('el cliente gasta al rededor de ', oilst['total_sales'].mean(), 'reales')\n",
    "print('las personas compran', oilst['total_products'].mean())\n",
    "oilst[['total_sales','total_products']].describe()"
   ]
  },
  {
   "attachments": {},
   "cell_type": "markdown",
   "metadata": {},
   "source": [
    "Cabe destacar que los operadores `.min` y `.max` también pueden trabajar con fechas, por ejemplo nos sirven para conocer los valores mínimo y máximo de las fechas de las órdenes:"
   ]
  },
  {
   "cell_type": "code",
   "execution_count": 21,
   "metadata": {},
   "outputs": [
    {
     "name": "stdout",
     "output_type": "stream",
     "text": [
      "Primera fecha:  2016-09-04 21:15:19\n"
     ]
    }
   ],
   "source": [
    "print(\"Primera fecha: \", oilst['order_purchase_timestamp'].min())"
   ]
  },
  {
   "cell_type": "code",
   "execution_count": 22,
   "metadata": {},
   "outputs": [
    {
     "name": "stdout",
     "output_type": "stream",
     "text": [
      "Última fecha:  2018-10-17 17:30:18\n"
     ]
    }
   ],
   "source": [
    "print(\"Última fecha: \", oilst['order_purchase_timestamp'].max())"
   ]
  },
  {
   "attachments": {},
   "cell_type": "markdown",
   "metadata": {},
   "source": [
    "Estos también los podemos conocer con `.describe`"
   ]
  },
  {
   "cell_type": "code",
   "execution_count": 23,
   "metadata": {},
   "outputs": [
    {
     "data": {
      "text/plain": [
       "count                            99441\n",
       "mean     2017-12-31 08:43:12.776581120\n",
       "min                2016-09-04 21:15:19\n",
       "25%                2017-09-12 14:46:19\n",
       "50%                2018-01-18 23:04:36\n",
       "75%                2018-05-04 15:42:16\n",
       "max                2018-10-17 17:30:18\n",
       "Name: order_purchase_timestamp, dtype: object"
      ]
     },
     "execution_count": 23,
     "metadata": {},
     "output_type": "execute_result"
    }
   ],
   "source": [
    "oilst['order_purchase_timestamp'].describe()"
   ]
  },
  {
   "attachments": {},
   "cell_type": "markdown",
   "metadata": {},
   "source": [
    "## 4.3 Filtrando subconjuntos de datos\n",
    "\n",
    "En ocasiones, es necesario estudiar sólo una parte de todos los datos proporcionados. Pandas permite realizar estos filtros en los datos en varias formas (https://www.geeksforgeeks.org/ways-to-filter-pandas-dataframe-by-column-values/), por ejemplo con valores de una columna, estructura lógicas para comparar fechas, entre otros."
   ]
  },
  {
   "attachments": {},
   "cell_type": "markdown",
   "metadata": {},
   "source": [
    "En este análisis únicamente nos interesarán las órdenes completadas, así que tenemos que obtener el subconjunto de datos correspondiente. La utilidad de pandas que no servirá para dicho propósito es `.query()` (https://pandas.pydata.org/docs/reference/api/pandas.DataFrame.query.html). En su interior debemos espeficar como texto una cadena lógica que indique que valor de una columna queremos obtener (`\"order_status  == 'delivered' \"`)"
   ]
  },
  {
   "cell_type": "code",
   "execution_count": 24,
   "metadata": {},
   "outputs": [],
   "source": [
    "# Condicion  lógica para filtrar (solo ordenes entregadas)\n",
    "delivered_filter = \"order_status  == 'delivered' \"\n",
    "\n",
    "delivered = oilst.query(delivered_filter)"
   ]
  },
  {
   "attachments": {},
   "cell_type": "markdown",
   "metadata": {},
   "source": [
    "Ahora podemos ver una muestra de este nuevo subconjunto de datos:"
   ]
  },
  {
   "cell_type": "code",
   "execution_count": 25,
   "metadata": {},
   "outputs": [
    {
     "data": {
      "text/html": [
       "<div>\n",
       "<style scoped>\n",
       "    .dataframe tbody tr th:only-of-type {\n",
       "        vertical-align: middle;\n",
       "    }\n",
       "\n",
       "    .dataframe tbody tr th {\n",
       "        vertical-align: top;\n",
       "    }\n",
       "\n",
       "    .dataframe thead th {\n",
       "        text-align: right;\n",
       "    }\n",
       "</style>\n",
       "<table border=\"1\" class=\"dataframe\">\n",
       "  <thead>\n",
       "    <tr style=\"text-align: right;\">\n",
       "      <th></th>\n",
       "      <th>order_id</th>\n",
       "      <th>customer_id</th>\n",
       "      <th>order_status</th>\n",
       "      <th>order_purchase_timestamp</th>\n",
       "      <th>order_approved_at</th>\n",
       "      <th>order_delivered_carrier_date</th>\n",
       "      <th>order_delivered_customer_date</th>\n",
       "      <th>order_estimated_delivery_date</th>\n",
       "      <th>distance_distribution_center</th>\n",
       "      <th>year</th>\n",
       "      <th>...</th>\n",
       "      <th>customer_zip_code_prefix</th>\n",
       "      <th>customer_city</th>\n",
       "      <th>customer_state</th>\n",
       "      <th>geolocation_zip_code_prefix</th>\n",
       "      <th>geolocation_lat</th>\n",
       "      <th>geolocation_lng</th>\n",
       "      <th>geolocation_city</th>\n",
       "      <th>geolocation_state</th>\n",
       "      <th>abbreviation</th>\n",
       "      <th>state_name</th>\n",
       "    </tr>\n",
       "  </thead>\n",
       "  <tbody>\n",
       "    <tr>\n",
       "      <th>29118</th>\n",
       "      <td>6da2f53b79a45c8701e66f227cea7955</td>\n",
       "      <td>53ccb31f1af2d83726c2943b32357f17</td>\n",
       "      <td>delivered</td>\n",
       "      <td>2017-11-03 02:43:08</td>\n",
       "      <td>2017-11-04 02:35:24</td>\n",
       "      <td>2017-11-06 20:18:34</td>\n",
       "      <td>2017-11-17 18:49:02</td>\n",
       "      <td>2017-12-08</td>\n",
       "      <td>71.23</td>\n",
       "      <td>2017</td>\n",
       "      <td>...</td>\n",
       "      <td>76906</td>\n",
       "      <td>ji-parana</td>\n",
       "      <td>RO</td>\n",
       "      <td>76906.0</td>\n",
       "      <td>-10.857470</td>\n",
       "      <td>-61.952375</td>\n",
       "      <td>ji-paraná</td>\n",
       "      <td>RO</td>\n",
       "      <td>RO</td>\n",
       "      <td>Rondônia</td>\n",
       "    </tr>\n",
       "    <tr>\n",
       "      <th>72204</th>\n",
       "      <td>62cebc207886dce8b9f4460a1266bfdb</td>\n",
       "      <td>d77fce353ad3d53a6a4fb5bf105d1978</td>\n",
       "      <td>delivered</td>\n",
       "      <td>2018-01-20 14:40:19</td>\n",
       "      <td>2018-01-23 03:36:55</td>\n",
       "      <td>2018-01-23 15:38:41</td>\n",
       "      <td>2018-02-02 15:47:46</td>\n",
       "      <td>2018-02-19</td>\n",
       "      <td>63.65</td>\n",
       "      <td>2018</td>\n",
       "      <td>...</td>\n",
       "      <td>16290</td>\n",
       "      <td>brauna</td>\n",
       "      <td>SP</td>\n",
       "      <td>16290.0</td>\n",
       "      <td>-21.500564</td>\n",
       "      <td>-50.318110</td>\n",
       "      <td>brauna</td>\n",
       "      <td>SP</td>\n",
       "      <td>SP</td>\n",
       "      <td>São Paulo</td>\n",
       "    </tr>\n",
       "    <tr>\n",
       "      <th>88751</th>\n",
       "      <td>8333db5c98fd7edd209091180ed9ca44</td>\n",
       "      <td>9bc1e773143f70089e9d0feaf0fbb5a9</td>\n",
       "      <td>delivered</td>\n",
       "      <td>2017-11-09 22:23:13</td>\n",
       "      <td>2017-11-09 22:35:34</td>\n",
       "      <td>2017-11-10 15:34:53</td>\n",
       "      <td>2017-11-14 19:54:31</td>\n",
       "      <td>2017-11-29</td>\n",
       "      <td>5.43</td>\n",
       "      <td>2017</td>\n",
       "      <td>...</td>\n",
       "      <td>35180</td>\n",
       "      <td>timoteo</td>\n",
       "      <td>MG</td>\n",
       "      <td>35180.0</td>\n",
       "      <td>-19.543731</td>\n",
       "      <td>-42.651621</td>\n",
       "      <td>timoteo</td>\n",
       "      <td>MG</td>\n",
       "      <td>MG</td>\n",
       "      <td>Minas Gerais</td>\n",
       "    </tr>\n",
       "    <tr>\n",
       "      <th>71761</th>\n",
       "      <td>ae08a6e1781c8a44dfa832b70594a0d4</td>\n",
       "      <td>15277d2b8246076738b151b03cd2ca0b</td>\n",
       "      <td>delivered</td>\n",
       "      <td>2017-05-22 13:13:27</td>\n",
       "      <td>2017-05-22 13:25:14</td>\n",
       "      <td>2017-05-23 09:11:26</td>\n",
       "      <td>2017-06-07 15:38:48</td>\n",
       "      <td>2017-06-16</td>\n",
       "      <td>54.61</td>\n",
       "      <td>2017</td>\n",
       "      <td>...</td>\n",
       "      <td>91180</td>\n",
       "      <td>porto alegre</td>\n",
       "      <td>RS</td>\n",
       "      <td>91180.0</td>\n",
       "      <td>-30.006109</td>\n",
       "      <td>-51.105855</td>\n",
       "      <td>porto alegre</td>\n",
       "      <td>RS</td>\n",
       "      <td>RS</td>\n",
       "      <td>Rio Grande do Sul</td>\n",
       "    </tr>\n",
       "    <tr>\n",
       "      <th>44529</th>\n",
       "      <td>ab96ffdb4db7fa3807bfb7a512f2f519</td>\n",
       "      <td>9c30cbe98d8f27539ba2320a78963c2e</td>\n",
       "      <td>delivered</td>\n",
       "      <td>2017-08-20 18:12:56</td>\n",
       "      <td>2017-08-20 22:34:58</td>\n",
       "      <td>2017-08-21 20:35:38</td>\n",
       "      <td>2017-08-22 19:47:44</td>\n",
       "      <td>2017-09-01</td>\n",
       "      <td>57.51</td>\n",
       "      <td>2017</td>\n",
       "      <td>...</td>\n",
       "      <td>5303</td>\n",
       "      <td>sao paulo</td>\n",
       "      <td>SP</td>\n",
       "      <td>5303.0</td>\n",
       "      <td>-23.526509</td>\n",
       "      <td>-46.731703</td>\n",
       "      <td>sao paulo</td>\n",
       "      <td>SP</td>\n",
       "      <td>SP</td>\n",
       "      <td>São Paulo</td>\n",
       "    </tr>\n",
       "  </tbody>\n",
       "</table>\n",
       "<p>5 rows × 28 columns</p>\n",
       "</div>"
      ],
      "text/plain": [
       "                               order_id                       customer_id  \\\n",
       "29118  6da2f53b79a45c8701e66f227cea7955  53ccb31f1af2d83726c2943b32357f17   \n",
       "72204  62cebc207886dce8b9f4460a1266bfdb  d77fce353ad3d53a6a4fb5bf105d1978   \n",
       "88751  8333db5c98fd7edd209091180ed9ca44  9bc1e773143f70089e9d0feaf0fbb5a9   \n",
       "71761  ae08a6e1781c8a44dfa832b70594a0d4  15277d2b8246076738b151b03cd2ca0b   \n",
       "44529  ab96ffdb4db7fa3807bfb7a512f2f519  9c30cbe98d8f27539ba2320a78963c2e   \n",
       "\n",
       "      order_status order_purchase_timestamp   order_approved_at  \\\n",
       "29118    delivered      2017-11-03 02:43:08 2017-11-04 02:35:24   \n",
       "72204    delivered      2018-01-20 14:40:19 2018-01-23 03:36:55   \n",
       "88751    delivered      2017-11-09 22:23:13 2017-11-09 22:35:34   \n",
       "71761    delivered      2017-05-22 13:13:27 2017-05-22 13:25:14   \n",
       "44529    delivered      2017-08-20 18:12:56 2017-08-20 22:34:58   \n",
       "\n",
       "      order_delivered_carrier_date order_delivered_customer_date  \\\n",
       "29118          2017-11-06 20:18:34           2017-11-17 18:49:02   \n",
       "72204          2018-01-23 15:38:41           2018-02-02 15:47:46   \n",
       "88751          2017-11-10 15:34:53           2017-11-14 19:54:31   \n",
       "71761          2017-05-23 09:11:26           2017-06-07 15:38:48   \n",
       "44529          2017-08-21 20:35:38           2017-08-22 19:47:44   \n",
       "\n",
       "      order_estimated_delivery_date  distance_distribution_center  year  ...  \\\n",
       "29118                    2017-12-08                         71.23  2017  ...   \n",
       "72204                    2018-02-19                         63.65  2018  ...   \n",
       "88751                    2017-11-29                          5.43  2017  ...   \n",
       "71761                    2017-06-16                         54.61  2017  ...   \n",
       "44529                    2017-09-01                         57.51  2017  ...   \n",
       "\n",
       "       customer_zip_code_prefix customer_city customer_state  \\\n",
       "29118                     76906     ji-parana             RO   \n",
       "72204                     16290        brauna             SP   \n",
       "88751                     35180       timoteo             MG   \n",
       "71761                     91180  porto alegre             RS   \n",
       "44529                      5303     sao paulo             SP   \n",
       "\n",
       "       geolocation_zip_code_prefix geolocation_lat  geolocation_lng  \\\n",
       "29118                      76906.0      -10.857470       -61.952375   \n",
       "72204                      16290.0      -21.500564       -50.318110   \n",
       "88751                      35180.0      -19.543731       -42.651621   \n",
       "71761                      91180.0      -30.006109       -51.105855   \n",
       "44529                       5303.0      -23.526509       -46.731703   \n",
       "\n",
       "       geolocation_city geolocation_state  abbreviation         state_name  \n",
       "29118         ji-paraná                RO            RO           Rondônia  \n",
       "72204            brauna                SP            SP          São Paulo  \n",
       "88751           timoteo                MG            MG       Minas Gerais  \n",
       "71761      porto alegre                RS            RS  Rio Grande do Sul  \n",
       "44529         sao paulo                SP            SP          São Paulo  \n",
       "\n",
       "[5 rows x 28 columns]"
      ]
     },
     "execution_count": 25,
     "metadata": {},
     "output_type": "execute_result"
    }
   ],
   "source": [
    "delivered.sample(5)"
   ]
  },
  {
   "attachments": {},
   "cell_type": "markdown",
   "metadata": {},
   "source": [
    "La cantidad de renglones y columnas totales en este dataframe se puede obtener con el método `.shape`"
   ]
  },
  {
   "cell_type": "code",
   "execution_count": 26,
   "metadata": {},
   "outputs": [
    {
     "data": {
      "text/html": [
       "<div>\n",
       "<style scoped>\n",
       "    .dataframe tbody tr th:only-of-type {\n",
       "        vertical-align: middle;\n",
       "    }\n",
       "\n",
       "    .dataframe tbody tr th {\n",
       "        vertical-align: top;\n",
       "    }\n",
       "\n",
       "    .dataframe thead th {\n",
       "        text-align: right;\n",
       "    }\n",
       "</style>\n",
       "<table border=\"1\" class=\"dataframe\">\n",
       "  <thead>\n",
       "    <tr style=\"text-align: right;\">\n",
       "      <th></th>\n",
       "      <th>order_id</th>\n",
       "      <th>customer_id</th>\n",
       "      <th>order_status</th>\n",
       "      <th>order_purchase_timestamp</th>\n",
       "      <th>order_approved_at</th>\n",
       "      <th>order_delivered_carrier_date</th>\n",
       "      <th>order_delivered_customer_date</th>\n",
       "      <th>order_estimated_delivery_date</th>\n",
       "      <th>distance_distribution_center</th>\n",
       "      <th>year</th>\n",
       "      <th>...</th>\n",
       "      <th>customer_zip_code_prefix</th>\n",
       "      <th>customer_city</th>\n",
       "      <th>customer_state</th>\n",
       "      <th>geolocation_zip_code_prefix</th>\n",
       "      <th>geolocation_lat</th>\n",
       "      <th>geolocation_lng</th>\n",
       "      <th>geolocation_city</th>\n",
       "      <th>geolocation_state</th>\n",
       "      <th>abbreviation</th>\n",
       "      <th>state_name</th>\n",
       "    </tr>\n",
       "  </thead>\n",
       "  <tbody>\n",
       "    <tr>\n",
       "      <th>0</th>\n",
       "      <td>e481f51cbdc54678b7cc49136f2d6af7</td>\n",
       "      <td>9ef432eb6251297304e76186b10a928d</td>\n",
       "      <td>delivered</td>\n",
       "      <td>2017-10-02 10:56:33</td>\n",
       "      <td>2017-10-02 11:07:15</td>\n",
       "      <td>2017-10-04 19:55:00</td>\n",
       "      <td>2017-10-10 21:25:13</td>\n",
       "      <td>2017-10-18</td>\n",
       "      <td>29.84</td>\n",
       "      <td>2017</td>\n",
       "      <td>...</td>\n",
       "      <td>3149</td>\n",
       "      <td>sao paulo</td>\n",
       "      <td>SP</td>\n",
       "      <td>3149.0</td>\n",
       "      <td>-23.574809</td>\n",
       "      <td>-46.587471</td>\n",
       "      <td>sao paulo</td>\n",
       "      <td>SP</td>\n",
       "      <td>SP</td>\n",
       "      <td>São Paulo</td>\n",
       "    </tr>\n",
       "    <tr>\n",
       "      <th>1</th>\n",
       "      <td>53cdb2fc8bc7dce0b6741e2150273451</td>\n",
       "      <td>b0830fb4747a6c6d20dea0b8c802d7ef</td>\n",
       "      <td>delivered</td>\n",
       "      <td>2018-07-24 20:41:37</td>\n",
       "      <td>2018-07-26 03:24:27</td>\n",
       "      <td>2018-07-26 14:31:00</td>\n",
       "      <td>2018-08-07 15:27:45</td>\n",
       "      <td>2018-08-13</td>\n",
       "      <td>25.53</td>\n",
       "      <td>2018</td>\n",
       "      <td>...</td>\n",
       "      <td>47813</td>\n",
       "      <td>barreiras</td>\n",
       "      <td>BA</td>\n",
       "      <td>47813.0</td>\n",
       "      <td>-12.169860</td>\n",
       "      <td>-44.988369</td>\n",
       "      <td>barreiras</td>\n",
       "      <td>BA</td>\n",
       "      <td>BA</td>\n",
       "      <td>Bahia</td>\n",
       "    </tr>\n",
       "    <tr>\n",
       "      <th>2</th>\n",
       "      <td>47770eb9100c2d0c44946d9cf07ec65d</td>\n",
       "      <td>41ce2a54c0b03bf3443c3d931a367089</td>\n",
       "      <td>delivered</td>\n",
       "      <td>2018-08-08 08:38:49</td>\n",
       "      <td>2018-08-08 08:55:23</td>\n",
       "      <td>2018-08-08 13:50:00</td>\n",
       "      <td>2018-08-17 18:06:29</td>\n",
       "      <td>2018-09-04</td>\n",
       "      <td>61.56</td>\n",
       "      <td>2018</td>\n",
       "      <td>...</td>\n",
       "      <td>75265</td>\n",
       "      <td>vianopolis</td>\n",
       "      <td>GO</td>\n",
       "      <td>75265.0</td>\n",
       "      <td>-16.746337</td>\n",
       "      <td>-48.514624</td>\n",
       "      <td>vianopolis</td>\n",
       "      <td>GO</td>\n",
       "      <td>GO</td>\n",
       "      <td>Goiás</td>\n",
       "    </tr>\n",
       "    <tr>\n",
       "      <th>3</th>\n",
       "      <td>949d5b44dbf5de918fe9c16f97b45f8a</td>\n",
       "      <td>f88197465ea7920adcdbec7375364d82</td>\n",
       "      <td>delivered</td>\n",
       "      <td>2017-11-18 19:28:06</td>\n",
       "      <td>2017-11-18 19:45:59</td>\n",
       "      <td>2017-11-22 13:39:59</td>\n",
       "      <td>2017-12-02 00:28:42</td>\n",
       "      <td>2017-12-15</td>\n",
       "      <td>60.30</td>\n",
       "      <td>2017</td>\n",
       "      <td>...</td>\n",
       "      <td>59296</td>\n",
       "      <td>sao goncalo do amarante</td>\n",
       "      <td>RN</td>\n",
       "      <td>59296.0</td>\n",
       "      <td>-5.767733</td>\n",
       "      <td>-35.275467</td>\n",
       "      <td>sao goncalo do amarante</td>\n",
       "      <td>RN</td>\n",
       "      <td>RN</td>\n",
       "      <td>Rio Grande do Norte</td>\n",
       "    </tr>\n",
       "    <tr>\n",
       "      <th>4</th>\n",
       "      <td>ad21c59c0840e6cb83a9ceb5573f8159</td>\n",
       "      <td>8ab97904e6daea8866dbdbc4fb7aad2c</td>\n",
       "      <td>delivered</td>\n",
       "      <td>2018-02-13 21:18:39</td>\n",
       "      <td>2018-02-13 22:20:29</td>\n",
       "      <td>2018-02-14 19:46:34</td>\n",
       "      <td>2018-02-16 18:17:02</td>\n",
       "      <td>2018-02-26</td>\n",
       "      <td>80.97</td>\n",
       "      <td>2018</td>\n",
       "      <td>...</td>\n",
       "      <td>9195</td>\n",
       "      <td>santo andre</td>\n",
       "      <td>SP</td>\n",
       "      <td>9195.0</td>\n",
       "      <td>-23.675037</td>\n",
       "      <td>-46.524784</td>\n",
       "      <td>santo andre</td>\n",
       "      <td>SP</td>\n",
       "      <td>SP</td>\n",
       "      <td>São Paulo</td>\n",
       "    </tr>\n",
       "    <tr>\n",
       "      <th>...</th>\n",
       "      <td>...</td>\n",
       "      <td>...</td>\n",
       "      <td>...</td>\n",
       "      <td>...</td>\n",
       "      <td>...</td>\n",
       "      <td>...</td>\n",
       "      <td>...</td>\n",
       "      <td>...</td>\n",
       "      <td>...</td>\n",
       "      <td>...</td>\n",
       "      <td>...</td>\n",
       "      <td>...</td>\n",
       "      <td>...</td>\n",
       "      <td>...</td>\n",
       "      <td>...</td>\n",
       "      <td>...</td>\n",
       "      <td>...</td>\n",
       "      <td>...</td>\n",
       "      <td>...</td>\n",
       "      <td>...</td>\n",
       "      <td>...</td>\n",
       "    </tr>\n",
       "    <tr>\n",
       "      <th>99436</th>\n",
       "      <td>9c5dedf39a927c1b2549525ed64a053c</td>\n",
       "      <td>39bd1228ee8140590ac3aca26f2dfe00</td>\n",
       "      <td>delivered</td>\n",
       "      <td>2017-03-09 09:54:05</td>\n",
       "      <td>2017-03-09 09:54:05</td>\n",
       "      <td>2017-03-10 11:18:03</td>\n",
       "      <td>2017-03-17 15:08:01</td>\n",
       "      <td>2017-03-28</td>\n",
       "      <td>68.26</td>\n",
       "      <td>2017</td>\n",
       "      <td>...</td>\n",
       "      <td>12209</td>\n",
       "      <td>sao jose dos campos</td>\n",
       "      <td>SP</td>\n",
       "      <td>12209.0</td>\n",
       "      <td>-23.178732</td>\n",
       "      <td>-45.889711</td>\n",
       "      <td>são josé dos campos</td>\n",
       "      <td>SP</td>\n",
       "      <td>SP</td>\n",
       "      <td>São Paulo</td>\n",
       "    </tr>\n",
       "    <tr>\n",
       "      <th>99437</th>\n",
       "      <td>63943bddc261676b46f01ca7ac2f7bd8</td>\n",
       "      <td>1fca14ff2861355f6e5f14306ff977a7</td>\n",
       "      <td>delivered</td>\n",
       "      <td>2018-02-06 12:58:58</td>\n",
       "      <td>2018-02-06 13:10:37</td>\n",
       "      <td>2018-02-07 23:22:42</td>\n",
       "      <td>2018-02-28 17:37:56</td>\n",
       "      <td>2018-03-02</td>\n",
       "      <td>14.92</td>\n",
       "      <td>2018</td>\n",
       "      <td>...</td>\n",
       "      <td>11722</td>\n",
       "      <td>praia grande</td>\n",
       "      <td>SP</td>\n",
       "      <td>11722.0</td>\n",
       "      <td>-24.001467</td>\n",
       "      <td>-46.446355</td>\n",
       "      <td>praia grande</td>\n",
       "      <td>SP</td>\n",
       "      <td>SP</td>\n",
       "      <td>São Paulo</td>\n",
       "    </tr>\n",
       "    <tr>\n",
       "      <th>99438</th>\n",
       "      <td>83c1379a015df1e13d02aae0204711ab</td>\n",
       "      <td>1aa71eb042121263aafbe80c1b562c9c</td>\n",
       "      <td>delivered</td>\n",
       "      <td>2017-08-27 14:46:43</td>\n",
       "      <td>2017-08-27 15:04:16</td>\n",
       "      <td>2017-08-28 20:52:26</td>\n",
       "      <td>2017-09-21 11:24:17</td>\n",
       "      <td>2017-09-27</td>\n",
       "      <td>36.37</td>\n",
       "      <td>2017</td>\n",
       "      <td>...</td>\n",
       "      <td>45920</td>\n",
       "      <td>nova vicosa</td>\n",
       "      <td>BA</td>\n",
       "      <td>45920.0</td>\n",
       "      <td>-17.891522</td>\n",
       "      <td>-39.370942</td>\n",
       "      <td>nova vicosa</td>\n",
       "      <td>BA</td>\n",
       "      <td>BA</td>\n",
       "      <td>Bahia</td>\n",
       "    </tr>\n",
       "    <tr>\n",
       "      <th>99439</th>\n",
       "      <td>11c177c8e97725db2631073c19f07b62</td>\n",
       "      <td>b331b74b18dc79bcdf6532d51e1637c1</td>\n",
       "      <td>delivered</td>\n",
       "      <td>2018-01-08 21:28:27</td>\n",
       "      <td>2018-01-08 21:36:21</td>\n",
       "      <td>2018-01-12 15:35:03</td>\n",
       "      <td>2018-01-25 23:32:54</td>\n",
       "      <td>2018-02-15</td>\n",
       "      <td>32.04</td>\n",
       "      <td>2018</td>\n",
       "      <td>...</td>\n",
       "      <td>28685</td>\n",
       "      <td>japuiba</td>\n",
       "      <td>RJ</td>\n",
       "      <td>28685.0</td>\n",
       "      <td>-22.555985</td>\n",
       "      <td>-42.690761</td>\n",
       "      <td>japuiba</td>\n",
       "      <td>RJ</td>\n",
       "      <td>RJ</td>\n",
       "      <td>Rio de Janeiro</td>\n",
       "    </tr>\n",
       "    <tr>\n",
       "      <th>99440</th>\n",
       "      <td>66dea50a8b16d9b4dee7af250b4be1a5</td>\n",
       "      <td>edb027a75a1449115f6b43211ae02a24</td>\n",
       "      <td>delivered</td>\n",
       "      <td>2018-03-08 20:57:30</td>\n",
       "      <td>2018-03-09 11:20:28</td>\n",
       "      <td>2018-03-09 22:11:59</td>\n",
       "      <td>2018-03-16 13:08:30</td>\n",
       "      <td>2018-04-03</td>\n",
       "      <td>3.54</td>\n",
       "      <td>2018</td>\n",
       "      <td>...</td>\n",
       "      <td>83750</td>\n",
       "      <td>lapa</td>\n",
       "      <td>PR</td>\n",
       "      <td>83750.0</td>\n",
       "      <td>-25.775722</td>\n",
       "      <td>-49.723981</td>\n",
       "      <td>lapa</td>\n",
       "      <td>PR</td>\n",
       "      <td>PR</td>\n",
       "      <td>Paraná</td>\n",
       "    </tr>\n",
       "  </tbody>\n",
       "</table>\n",
       "<p>96478 rows × 28 columns</p>\n",
       "</div>"
      ],
      "text/plain": [
       "                               order_id                       customer_id  \\\n",
       "0      e481f51cbdc54678b7cc49136f2d6af7  9ef432eb6251297304e76186b10a928d   \n",
       "1      53cdb2fc8bc7dce0b6741e2150273451  b0830fb4747a6c6d20dea0b8c802d7ef   \n",
       "2      47770eb9100c2d0c44946d9cf07ec65d  41ce2a54c0b03bf3443c3d931a367089   \n",
       "3      949d5b44dbf5de918fe9c16f97b45f8a  f88197465ea7920adcdbec7375364d82   \n",
       "4      ad21c59c0840e6cb83a9ceb5573f8159  8ab97904e6daea8866dbdbc4fb7aad2c   \n",
       "...                                 ...                               ...   \n",
       "99436  9c5dedf39a927c1b2549525ed64a053c  39bd1228ee8140590ac3aca26f2dfe00   \n",
       "99437  63943bddc261676b46f01ca7ac2f7bd8  1fca14ff2861355f6e5f14306ff977a7   \n",
       "99438  83c1379a015df1e13d02aae0204711ab  1aa71eb042121263aafbe80c1b562c9c   \n",
       "99439  11c177c8e97725db2631073c19f07b62  b331b74b18dc79bcdf6532d51e1637c1   \n",
       "99440  66dea50a8b16d9b4dee7af250b4be1a5  edb027a75a1449115f6b43211ae02a24   \n",
       "\n",
       "      order_status order_purchase_timestamp   order_approved_at  \\\n",
       "0        delivered      2017-10-02 10:56:33 2017-10-02 11:07:15   \n",
       "1        delivered      2018-07-24 20:41:37 2018-07-26 03:24:27   \n",
       "2        delivered      2018-08-08 08:38:49 2018-08-08 08:55:23   \n",
       "3        delivered      2017-11-18 19:28:06 2017-11-18 19:45:59   \n",
       "4        delivered      2018-02-13 21:18:39 2018-02-13 22:20:29   \n",
       "...            ...                      ...                 ...   \n",
       "99436    delivered      2017-03-09 09:54:05 2017-03-09 09:54:05   \n",
       "99437    delivered      2018-02-06 12:58:58 2018-02-06 13:10:37   \n",
       "99438    delivered      2017-08-27 14:46:43 2017-08-27 15:04:16   \n",
       "99439    delivered      2018-01-08 21:28:27 2018-01-08 21:36:21   \n",
       "99440    delivered      2018-03-08 20:57:30 2018-03-09 11:20:28   \n",
       "\n",
       "      order_delivered_carrier_date order_delivered_customer_date  \\\n",
       "0              2017-10-04 19:55:00           2017-10-10 21:25:13   \n",
       "1              2018-07-26 14:31:00           2018-08-07 15:27:45   \n",
       "2              2018-08-08 13:50:00           2018-08-17 18:06:29   \n",
       "3              2017-11-22 13:39:59           2017-12-02 00:28:42   \n",
       "4              2018-02-14 19:46:34           2018-02-16 18:17:02   \n",
       "...                            ...                           ...   \n",
       "99436          2017-03-10 11:18:03           2017-03-17 15:08:01   \n",
       "99437          2018-02-07 23:22:42           2018-02-28 17:37:56   \n",
       "99438          2017-08-28 20:52:26           2017-09-21 11:24:17   \n",
       "99439          2018-01-12 15:35:03           2018-01-25 23:32:54   \n",
       "99440          2018-03-09 22:11:59           2018-03-16 13:08:30   \n",
       "\n",
       "      order_estimated_delivery_date  distance_distribution_center  year  ...  \\\n",
       "0                        2017-10-18                         29.84  2017  ...   \n",
       "1                        2018-08-13                         25.53  2018  ...   \n",
       "2                        2018-09-04                         61.56  2018  ...   \n",
       "3                        2017-12-15                         60.30  2017  ...   \n",
       "4                        2018-02-26                         80.97  2018  ...   \n",
       "...                             ...                           ...   ...  ...   \n",
       "99436                    2017-03-28                         68.26  2017  ...   \n",
       "99437                    2018-03-02                         14.92  2018  ...   \n",
       "99438                    2017-09-27                         36.37  2017  ...   \n",
       "99439                    2018-02-15                         32.04  2018  ...   \n",
       "99440                    2018-04-03                          3.54  2018  ...   \n",
       "\n",
       "       customer_zip_code_prefix            customer_city customer_state  \\\n",
       "0                          3149                sao paulo             SP   \n",
       "1                         47813                barreiras             BA   \n",
       "2                         75265               vianopolis             GO   \n",
       "3                         59296  sao goncalo do amarante             RN   \n",
       "4                          9195              santo andre             SP   \n",
       "...                         ...                      ...            ...   \n",
       "99436                     12209      sao jose dos campos             SP   \n",
       "99437                     11722             praia grande             SP   \n",
       "99438                     45920              nova vicosa             BA   \n",
       "99439                     28685                  japuiba             RJ   \n",
       "99440                     83750                     lapa             PR   \n",
       "\n",
       "       geolocation_zip_code_prefix geolocation_lat  geolocation_lng  \\\n",
       "0                           3149.0      -23.574809       -46.587471   \n",
       "1                          47813.0      -12.169860       -44.988369   \n",
       "2                          75265.0      -16.746337       -48.514624   \n",
       "3                          59296.0       -5.767733       -35.275467   \n",
       "4                           9195.0      -23.675037       -46.524784   \n",
       "...                            ...             ...              ...   \n",
       "99436                      12209.0      -23.178732       -45.889711   \n",
       "99437                      11722.0      -24.001467       -46.446355   \n",
       "99438                      45920.0      -17.891522       -39.370942   \n",
       "99439                      28685.0      -22.555985       -42.690761   \n",
       "99440                      83750.0      -25.775722       -49.723981   \n",
       "\n",
       "              geolocation_city geolocation_state  abbreviation  \\\n",
       "0                    sao paulo                SP            SP   \n",
       "1                    barreiras                BA            BA   \n",
       "2                   vianopolis                GO            GO   \n",
       "3      sao goncalo do amarante                RN            RN   \n",
       "4                  santo andre                SP            SP   \n",
       "...                        ...               ...           ...   \n",
       "99436      são josé dos campos                SP            SP   \n",
       "99437             praia grande                SP            SP   \n",
       "99438              nova vicosa                BA            BA   \n",
       "99439                  japuiba                RJ            RJ   \n",
       "99440                     lapa                PR            PR   \n",
       "\n",
       "                state_name  \n",
       "0                São Paulo  \n",
       "1                    Bahia  \n",
       "2                    Goiás  \n",
       "3      Rio Grande do Norte  \n",
       "4                São Paulo  \n",
       "...                    ...  \n",
       "99436            São Paulo  \n",
       "99437            São Paulo  \n",
       "99438                Bahia  \n",
       "99439       Rio de Janeiro  \n",
       "99440               Paraná  \n",
       "\n",
       "[96478 rows x 28 columns]"
      ]
     },
     "execution_count": 26,
     "metadata": {},
     "output_type": "execute_result"
    }
   ],
   "source": [
    "delivered"
   ]
  },
  {
   "attachments": {},
   "cell_type": "markdown",
   "metadata": {},
   "source": [
    "Este método es bastante amigable pues nos permite añadir muchas condiconales lógicas en el análisis en una misma expresión. Por ejemplo, si queremos el conjunto cantidad de ordenes que llegaron con retrazo prolongado y cuya venta represento más de 50 unidades monetarias esto se calcula como:"
   ]
  },
  {
   "cell_type": "code",
   "execution_count": 27,
   "metadata": {},
   "outputs": [
    {
     "data": {
      "text/html": [
       "<div>\n",
       "<style scoped>\n",
       "    .dataframe tbody tr th:only-of-type {\n",
       "        vertical-align: middle;\n",
       "    }\n",
       "\n",
       "    .dataframe tbody tr th {\n",
       "        vertical-align: top;\n",
       "    }\n",
       "\n",
       "    .dataframe thead th {\n",
       "        text-align: right;\n",
       "    }\n",
       "</style>\n",
       "<table border=\"1\" class=\"dataframe\">\n",
       "  <thead>\n",
       "    <tr style=\"text-align: right;\">\n",
       "      <th></th>\n",
       "      <th>order_id</th>\n",
       "      <th>customer_id</th>\n",
       "      <th>order_status</th>\n",
       "      <th>order_purchase_timestamp</th>\n",
       "      <th>order_approved_at</th>\n",
       "      <th>order_delivered_carrier_date</th>\n",
       "      <th>order_delivered_customer_date</th>\n",
       "      <th>order_estimated_delivery_date</th>\n",
       "      <th>distance_distribution_center</th>\n",
       "      <th>year</th>\n",
       "      <th>...</th>\n",
       "      <th>customer_zip_code_prefix</th>\n",
       "      <th>customer_city</th>\n",
       "      <th>customer_state</th>\n",
       "      <th>geolocation_zip_code_prefix</th>\n",
       "      <th>geolocation_lat</th>\n",
       "      <th>geolocation_lng</th>\n",
       "      <th>geolocation_city</th>\n",
       "      <th>geolocation_state</th>\n",
       "      <th>abbreviation</th>\n",
       "      <th>state_name</th>\n",
       "    </tr>\n",
       "  </thead>\n",
       "  <tbody>\n",
       "    <tr>\n",
       "      <th>20</th>\n",
       "      <td>203096f03d82e0dffbc41ebc2e2bcfb7</td>\n",
       "      <td>d2b091571da224a1b36412c18bc3bbfe</td>\n",
       "      <td>delivered</td>\n",
       "      <td>2017-09-18 14:31:30</td>\n",
       "      <td>2017-09-19 04:04:09</td>\n",
       "      <td>2017-10-06 17:50:03</td>\n",
       "      <td>2017-10-09 22:23:46</td>\n",
       "      <td>2017-09-28</td>\n",
       "      <td>341.26</td>\n",
       "      <td>2017</td>\n",
       "      <td>...</td>\n",
       "      <td>4001</td>\n",
       "      <td>sao paulo</td>\n",
       "      <td>SP</td>\n",
       "      <td>4001.0</td>\n",
       "      <td>-23.572301</td>\n",
       "      <td>-46.652000</td>\n",
       "      <td>sao paulo</td>\n",
       "      <td>SP</td>\n",
       "      <td>SP</td>\n",
       "      <td>São Paulo</td>\n",
       "    </tr>\n",
       "    <tr>\n",
       "      <th>25</th>\n",
       "      <td>fbf9ac61453ac646ce8ad9783d7d0af6</td>\n",
       "      <td>3a874b4d4c4b6543206ff5d89287f0c3</td>\n",
       "      <td>delivered</td>\n",
       "      <td>2018-02-20 23:46:53</td>\n",
       "      <td>2018-02-22 02:30:46</td>\n",
       "      <td>2018-02-26 22:25:22</td>\n",
       "      <td>2018-03-21 22:03:54</td>\n",
       "      <td>2018-03-12</td>\n",
       "      <td>196.23</td>\n",
       "      <td>2018</td>\n",
       "      <td>...</td>\n",
       "      <td>21715</td>\n",
       "      <td>rio de janeiro</td>\n",
       "      <td>RJ</td>\n",
       "      <td>21715.0</td>\n",
       "      <td>-22.878152</td>\n",
       "      <td>-43.444643</td>\n",
       "      <td>rio de janeiro</td>\n",
       "      <td>RJ</td>\n",
       "      <td>RJ</td>\n",
       "      <td>Rio de Janeiro</td>\n",
       "    </tr>\n",
       "    <tr>\n",
       "      <th>41</th>\n",
       "      <td>6ea2f835b4556291ffdc53fa0b3b95e8</td>\n",
       "      <td>c7340080e394356141681bd4c9b8fe31</td>\n",
       "      <td>delivered</td>\n",
       "      <td>2017-11-24 21:27:48</td>\n",
       "      <td>2017-11-25 00:21:09</td>\n",
       "      <td>2017-12-13 21:14:05</td>\n",
       "      <td>2017-12-28 18:59:23</td>\n",
       "      <td>2017-12-21</td>\n",
       "      <td>96.24</td>\n",
       "      <td>2017</td>\n",
       "      <td>...</td>\n",
       "      <td>19400</td>\n",
       "      <td>presidente venceslau</td>\n",
       "      <td>SP</td>\n",
       "      <td>19400.0</td>\n",
       "      <td>-21.881549</td>\n",
       "      <td>-51.846219</td>\n",
       "      <td>presidente venceslau</td>\n",
       "      <td>SP</td>\n",
       "      <td>SP</td>\n",
       "      <td>São Paulo</td>\n",
       "    </tr>\n",
       "    <tr>\n",
       "      <th>58</th>\n",
       "      <td>a685d016c8a26f71a0bb67821070e398</td>\n",
       "      <td>911e4c37f5cafe1604fe6767034bf1ae</td>\n",
       "      <td>delivered</td>\n",
       "      <td>2017-03-13 18:14:36</td>\n",
       "      <td>2017-03-13 18:14:36</td>\n",
       "      <td>2017-03-22 14:03:09</td>\n",
       "      <td>2017-04-06 13:37:16</td>\n",
       "      <td>2017-03-30</td>\n",
       "      <td>88.40</td>\n",
       "      <td>2017</td>\n",
       "      <td>...</td>\n",
       "      <td>13068</td>\n",
       "      <td>campinas</td>\n",
       "      <td>SP</td>\n",
       "      <td>13068.0</td>\n",
       "      <td>-22.865111</td>\n",
       "      <td>-47.152559</td>\n",
       "      <td>campinas</td>\n",
       "      <td>SP</td>\n",
       "      <td>SP</td>\n",
       "      <td>São Paulo</td>\n",
       "    </tr>\n",
       "    <tr>\n",
       "      <th>97</th>\n",
       "      <td>6a0a8bfbbe700284feb0845d95e0867f</td>\n",
       "      <td>68451b39b1314302c08c65a29f1140fc</td>\n",
       "      <td>delivered</td>\n",
       "      <td>2017-11-22 11:32:22</td>\n",
       "      <td>2017-11-22 11:46:50</td>\n",
       "      <td>2017-11-27 13:39:35</td>\n",
       "      <td>2017-12-28 19:43:00</td>\n",
       "      <td>2017-12-11</td>\n",
       "      <td>1133.10</td>\n",
       "      <td>2017</td>\n",
       "      <td>...</td>\n",
       "      <td>20740</td>\n",
       "      <td>rio de janeiro</td>\n",
       "      <td>RJ</td>\n",
       "      <td>20740.0</td>\n",
       "      <td>-22.896035</td>\n",
       "      <td>-43.321577</td>\n",
       "      <td>rio de janeiro</td>\n",
       "      <td>RJ</td>\n",
       "      <td>RJ</td>\n",
       "      <td>Rio de Janeiro</td>\n",
       "    </tr>\n",
       "  </tbody>\n",
       "</table>\n",
       "<p>5 rows × 28 columns</p>\n",
       "</div>"
      ],
      "text/plain": [
       "                            order_id                       customer_id  \\\n",
       "20  203096f03d82e0dffbc41ebc2e2bcfb7  d2b091571da224a1b36412c18bc3bbfe   \n",
       "25  fbf9ac61453ac646ce8ad9783d7d0af6  3a874b4d4c4b6543206ff5d89287f0c3   \n",
       "41  6ea2f835b4556291ffdc53fa0b3b95e8  c7340080e394356141681bd4c9b8fe31   \n",
       "58  a685d016c8a26f71a0bb67821070e398  911e4c37f5cafe1604fe6767034bf1ae   \n",
       "97  6a0a8bfbbe700284feb0845d95e0867f  68451b39b1314302c08c65a29f1140fc   \n",
       "\n",
       "   order_status order_purchase_timestamp   order_approved_at  \\\n",
       "20    delivered      2017-09-18 14:31:30 2017-09-19 04:04:09   \n",
       "25    delivered      2018-02-20 23:46:53 2018-02-22 02:30:46   \n",
       "41    delivered      2017-11-24 21:27:48 2017-11-25 00:21:09   \n",
       "58    delivered      2017-03-13 18:14:36 2017-03-13 18:14:36   \n",
       "97    delivered      2017-11-22 11:32:22 2017-11-22 11:46:50   \n",
       "\n",
       "   order_delivered_carrier_date order_delivered_customer_date  \\\n",
       "20          2017-10-06 17:50:03           2017-10-09 22:23:46   \n",
       "25          2018-02-26 22:25:22           2018-03-21 22:03:54   \n",
       "41          2017-12-13 21:14:05           2017-12-28 18:59:23   \n",
       "58          2017-03-22 14:03:09           2017-04-06 13:37:16   \n",
       "97          2017-11-27 13:39:35           2017-12-28 19:43:00   \n",
       "\n",
       "   order_estimated_delivery_date  distance_distribution_center  year  ...  \\\n",
       "20                    2017-09-28                        341.26  2017  ...   \n",
       "25                    2018-03-12                        196.23  2018  ...   \n",
       "41                    2017-12-21                         96.24  2017  ...   \n",
       "58                    2017-03-30                         88.40  2017  ...   \n",
       "97                    2017-12-11                       1133.10  2017  ...   \n",
       "\n",
       "    customer_zip_code_prefix         customer_city customer_state  \\\n",
       "20                      4001             sao paulo             SP   \n",
       "25                     21715        rio de janeiro             RJ   \n",
       "41                     19400  presidente venceslau             SP   \n",
       "58                     13068              campinas             SP   \n",
       "97                     20740        rio de janeiro             RJ   \n",
       "\n",
       "    geolocation_zip_code_prefix geolocation_lat  geolocation_lng  \\\n",
       "20                       4001.0      -23.572301       -46.652000   \n",
       "25                      21715.0      -22.878152       -43.444643   \n",
       "41                      19400.0      -21.881549       -51.846219   \n",
       "58                      13068.0      -22.865111       -47.152559   \n",
       "97                      20740.0      -22.896035       -43.321577   \n",
       "\n",
       "        geolocation_city geolocation_state  abbreviation      state_name  \n",
       "20             sao paulo                SP            SP       São Paulo  \n",
       "25        rio de janeiro                RJ            RJ  Rio de Janeiro  \n",
       "41  presidente venceslau                SP            SP       São Paulo  \n",
       "58              campinas                SP            SP       São Paulo  \n",
       "97        rio de janeiro                RJ            RJ  Rio de Janeiro  \n",
       "\n",
       "[5 rows x 28 columns]"
      ]
     },
     "execution_count": 27,
     "metadata": {},
     "output_type": "execute_result"
    }
   ],
   "source": [
    "delivered.query(\"delay_status == 'long_delay'  & total_sales > 50\").head()"
   ]
  },
  {
   "attachments": {},
   "cell_type": "markdown",
   "metadata": {},
   "source": [
    "**Preguntas:**\n",
    "\n",
    "* ¿Cuantas órdenes completadas llegaron en tiempo (`delay_status` igual a `on_time`), con al menos 3 productos y con valor de ventas de más de 100 unidades monetarias?"
   ]
  },
  {
   "cell_type": "code",
   "execution_count": 28,
   "metadata": {},
   "outputs": [
    {
     "data": {
      "text/plain": [
       "720"
      ]
     },
     "execution_count": 28,
     "metadata": {},
     "output_type": "execute_result"
    }
   ],
   "source": [
    "T1=delivered.query(\"delay_status == 'on_time'  & total_sales > 100 & total_products > 3\")\n",
    "T1.shape[0]"
   ]
  },
  {
   "attachments": {},
   "cell_type": "markdown",
   "metadata": {},
   "source": [
    "## 4.4 Trabajando con variables categóricas\n",
    "\n",
    "En estadística, una variable categórica es una variable que denota representa una categoría que califica a algo del mundo real, por ejemplo palabras o frases que describen una característica o cualidad específica, como el color de ojos (azul, verde, marrón) o la marca de automóvil (Toyota, Ford, Honda).\n",
    "\n",
    "Pandas tiene métodos especiales para realizar cálculos de conteos y proporciones que cada categoría representa con respecto al total."
   ]
  },
  {
   "attachments": {},
   "cell_type": "markdown",
   "metadata": {},
   "source": [
    "Por ejemplo, `.value_counts()` nos permite contar cuantos elementos de cada categoría existen en los tipos de entrega que se observaron respecto a la existencia de retrasos en las órdenes:"
   ]
  },
  {
   "cell_type": "code",
   "execution_count": 29,
   "metadata": {},
   "outputs": [
    {
     "data": {
      "text/plain": [
       "delay_status\n",
       "on_time        88644\n",
       "long_delay      5164\n",
       "short_delay     2670\n",
       "Name: count, dtype: int64"
      ]
     },
     "execution_count": 29,
     "metadata": {},
     "output_type": "execute_result"
    }
   ],
   "source": [
    "delivered['delay_status'].value_counts()"
   ]
  },
  {
   "attachments": {},
   "cell_type": "markdown",
   "metadata": {},
   "source": [
    "Además el parámetro `normalize=True` permite calcular lo anterior, como proporciones del total:"
   ]
  },
  {
   "cell_type": "code",
   "execution_count": 30,
   "metadata": {},
   "outputs": [
    {
     "data": {
      "text/plain": [
       "delay_status\n",
       "on_time        0.918800\n",
       "long_delay     0.053525\n",
       "short_delay    0.027675\n",
       "Name: proportion, dtype: float64"
      ]
     },
     "execution_count": 30,
     "metadata": {},
     "output_type": "execute_result"
    }
   ],
   "source": [
    "delivered['delay_status'].value_counts(normalize=True)"
   ]
  },
  {
   "attachments": {},
   "cell_type": "markdown",
   "metadata": {},
   "source": [
    "Aquí, se desprende que casi el 92% de las órdenes llegaron en tiempo, lo cual es un gran parámetro de la calidad de servicio del e-commerce Oilst. Además, en el umbral de retrasos aceptables (hasta 3 días después de lo estimado) se encuentran el 2.76% de las órdenes.\n",
    "\n",
    "Sin embargo, casi 5% de las órdenes tiene retrasos prolongados, es decir, los reportes de las redes sociales derivan de personas en este segmento específico.\n",
    "\n",
    "**Preguntas**\n",
    "\n",
    "* ¿Cómo podriamos comunicar lo anterior como un el área de oportunidad para Oilst?"
   ]
  },
  {
   "cell_type": "code",
   "execution_count": 31,
   "metadata": {},
   "outputs": [
    {
     "name": "stdout",
     "output_type": "stream",
     "text": [
      "las entregas aa tiempo son el 91.88001409647796 % del total de las ventas, y en promedio llegan  -13.008280170071671 dias antes de lo esperado\n"
     ]
    }
   ],
   "source": [
    "print('las entregas aa tiempo son el',delivered['delay_status'].value_counts(normalize=True)[0]*100, '% del total de las ventas, y en promedio llegan ',delivered.groupby(['delay_status'])['delta_days'].mean()[1], 'dias antes de lo esperado')"
   ]
  },
  {
   "attachments": {},
   "cell_type": "markdown",
   "metadata": {},
   "source": [
    "## 4.5 Trabajando con variables numéricas y categóricas\n",
    "\n",
    "Cómo hemos visto antes, Pandas posee una serie de métodos (`.min, .max, .mean, .std, .median, .sum, .count`) para operar sobre variables numéricas. Estas se pueden combinar con agrupaciones sobre variables categóricas para observar como cambian las variables dentro de grupos específicos.\n",
    "\n",
    "Para ello, Pandas ofrece al operador `.groupby()` que permite realizar operaciones agregadas en sobres los valores de una variable categóricas. A continuación, calcularemos el promedio de la diferencia de dias entre la entrega estimada y la fecha real de entrega, por cada los elementos de `delay_status`:"
   ]
  },
  {
   "cell_type": "code",
   "execution_count": 32,
   "metadata": {},
   "outputs": [
    {
     "data": {
      "text/plain": [
       "delay_status\n",
       "long_delay     13.752796\n",
       "on_time       -13.008280\n",
       "short_delay     1.402238\n",
       "Name: delta_days, dtype: float64"
      ]
     },
     "execution_count": 32,
     "metadata": {},
     "output_type": "execute_result"
    }
   ],
   "source": [
    "delivered.groupby(['delay_status'])['delta_days'].mean()\n"
   ]
  },
  {
   "attachments": {},
   "cell_type": "markdown",
   "metadata": {},
   "source": [
    "Aquí podemos apreciar que en el caso de órdenes a tiempo, estas llegan en promedio 13 días antes de lo proyectado. En el caso de las órdenes con retraso moderado, tales llegan posteriormente en 1 día después de la fecha estimada\n",
    "\n",
    "**Pregunta**\n",
    "\n",
    "* ¿Cómo se puede interpretar el promedio de `delta_days` para las órdenes con retrasos prolongados?\n",
    "* ¿Cuál es el área de oportunidad que tiene el e-commerce con respecto a dicho promedio?"
   ]
  },
  {
   "attachments": {},
   "cell_type": "markdown",
   "metadata": {},
   "source": [
    "De la misma forma, se pueden estimar los `.min, .max, .std`. Hagámoslo a continuación:"
   ]
  },
  {
   "cell_type": "code",
   "execution_count": 33,
   "metadata": {},
   "outputs": [
    {
     "data": {
      "text/plain": [
       "delay_status\n",
       "long_delay       3.001782\n",
       "on_time       -146.016123\n",
       "short_delay      0.002500\n",
       "Name: delta_days, dtype: float64"
      ]
     },
     "execution_count": 33,
     "metadata": {},
     "output_type": "execute_result"
    }
   ],
   "source": [
    "delivered.groupby(['delay_status'])['delta_days'].min()"
   ]
  },
  {
   "cell_type": "code",
   "execution_count": 34,
   "metadata": {},
   "outputs": [
    {
     "data": {
      "text/plain": [
       "delay_status\n",
       "long_delay     188.975081\n",
       "on_time         -0.000058\n",
       "short_delay      2.996863\n",
       "Name: delta_days, dtype: float64"
      ]
     },
     "execution_count": 34,
     "metadata": {},
     "output_type": "execute_result"
    }
   ],
   "source": [
    "delivered.groupby(['delay_status'])['delta_days'].max()\n"
   ]
  },
  {
   "cell_type": "code",
   "execution_count": 35,
   "metadata": {},
   "outputs": [
    {
     "data": {
      "text/plain": [
       "delay_status\n",
       "long_delay     15.582507\n",
       "on_time         7.375943\n",
       "short_delay     0.807198\n",
       "Name: delta_days, dtype: float64"
      ]
     },
     "execution_count": 35,
     "metadata": {},
     "output_type": "execute_result"
    }
   ],
   "source": [
    "delivered.groupby(['delay_status'])['delta_days'].std()\n"
   ]
  },
  {
   "attachments": {},
   "cell_type": "markdown",
   "metadata": {},
   "source": [
    "Los estadísticos anteriores, también se pueden calcular usando la función `.describe` de Pandas, que calcula la cantidad de elementos de las columnas, su media y desviación estándar, juntos con los valores mínimo y máximo de la misma, así como valores inter-cuartiles Q1, Q2 y Q3."
   ]
  },
  {
   "cell_type": "code",
   "execution_count": 36,
   "metadata": {},
   "outputs": [
    {
     "data": {
      "text/html": [
       "<div>\n",
       "<style scoped>\n",
       "    .dataframe tbody tr th:only-of-type {\n",
       "        vertical-align: middle;\n",
       "    }\n",
       "\n",
       "    .dataframe tbody tr th {\n",
       "        vertical-align: top;\n",
       "    }\n",
       "\n",
       "    .dataframe thead th {\n",
       "        text-align: right;\n",
       "    }\n",
       "</style>\n",
       "<table border=\"1\" class=\"dataframe\">\n",
       "  <thead>\n",
       "    <tr style=\"text-align: right;\">\n",
       "      <th></th>\n",
       "      <th>count</th>\n",
       "      <th>mean</th>\n",
       "      <th>std</th>\n",
       "      <th>min</th>\n",
       "      <th>25%</th>\n",
       "      <th>50%</th>\n",
       "      <th>75%</th>\n",
       "      <th>max</th>\n",
       "    </tr>\n",
       "    <tr>\n",
       "      <th>delay_status</th>\n",
       "      <th></th>\n",
       "      <th></th>\n",
       "      <th></th>\n",
       "      <th></th>\n",
       "      <th></th>\n",
       "      <th></th>\n",
       "      <th></th>\n",
       "      <th></th>\n",
       "    </tr>\n",
       "  </thead>\n",
       "  <tbody>\n",
       "    <tr>\n",
       "      <th>long_delay</th>\n",
       "      <td>5164.0</td>\n",
       "      <td>13.752796</td>\n",
       "      <td>15.582507</td>\n",
       "      <td>3.001782</td>\n",
       "      <td>5.849595</td>\n",
       "      <td>8.890150</td>\n",
       "      <td>15.746490</td>\n",
       "      <td>188.975081</td>\n",
       "    </tr>\n",
       "    <tr>\n",
       "      <th>on_time</th>\n",
       "      <td>88644.0</td>\n",
       "      <td>-13.008280</td>\n",
       "      <td>7.375943</td>\n",
       "      <td>-146.016123</td>\n",
       "      <td>-17.037121</td>\n",
       "      <td>-12.317789</td>\n",
       "      <td>-7.996803</td>\n",
       "      <td>-0.000058</td>\n",
       "    </tr>\n",
       "    <tr>\n",
       "      <th>short_delay</th>\n",
       "      <td>2662.0</td>\n",
       "      <td>1.402238</td>\n",
       "      <td>0.807198</td>\n",
       "      <td>0.002500</td>\n",
       "      <td>0.761782</td>\n",
       "      <td>1.044109</td>\n",
       "      <td>1.894560</td>\n",
       "      <td>2.996863</td>\n",
       "    </tr>\n",
       "  </tbody>\n",
       "</table>\n",
       "</div>"
      ],
      "text/plain": [
       "                count       mean        std         min        25%        50%  \\\n",
       "delay_status                                                                    \n",
       "long_delay     5164.0  13.752796  15.582507    3.001782   5.849595   8.890150   \n",
       "on_time       88644.0 -13.008280   7.375943 -146.016123 -17.037121 -12.317789   \n",
       "short_delay    2662.0   1.402238   0.807198    0.002500   0.761782   1.044109   \n",
       "\n",
       "                    75%         max  \n",
       "delay_status                         \n",
       "long_delay    15.746490  188.975081  \n",
       "on_time       -7.996803   -0.000058  \n",
       "short_delay    1.894560    2.996863  "
      ]
     },
     "execution_count": 36,
     "metadata": {},
     "output_type": "execute_result"
    }
   ],
   "source": [
    "delivered.groupby(['delay_status'])['delta_days'].describe()"
   ]
  },
  {
   "attachments": {},
   "cell_type": "markdown",
   "metadata": {},
   "source": [
    "**Impacto en ventas**"
   ]
  },
  {
   "attachments": {},
   "cell_type": "markdown",
   "metadata": {},
   "source": [
    "Usando lo anterior, también podemos estimar cual es el valor de las ventas en cada uno de los estatus de entrega de las órdenes."
   ]
  },
  {
   "attachments": {},
   "cell_type": "markdown",
   "metadata": {},
   "source": [
    "Ellos se puede lograr realizando primero la agrupación por `delay_status` y posteriormente sumando los valores de `total_sales`:"
   ]
  },
  {
   "cell_type": "code",
   "execution_count": 37,
   "metadata": {},
   "outputs": [
    {
     "data": {
      "text/plain": [
       "delay_status\n",
       "long_delay       799558.83\n",
       "on_time        12061328.42\n",
       "short_delay      360610.86\n",
       "Name: total_sales, dtype: float64"
      ]
     },
     "execution_count": 37,
     "metadata": {},
     "output_type": "execute_result"
    }
   ],
   "source": [
    "delivered.groupby(['delay_status'])['total_sales'].sum()"
   ]
  },
  {
   "cell_type": "markdown",
   "metadata": {},
   "source": [
    "Con las cantidades anterios podemos calcular que porcentaje de las ventas de Oilst representan lás ventas de las órdenes a través de sus estatus de entrega: "
   ]
  },
  {
   "cell_type": "code",
   "execution_count": 38,
   "metadata": {},
   "outputs": [],
   "source": [
    "s = delivered.groupby(['delay_status'])['total_sales'].sum()/ delivered['total_sales'].sum()*100"
   ]
  },
  {
   "attachments": {},
   "cell_type": "markdown",
   "metadata": {},
   "source": [
    "**Preguntas**\n",
    "\n",
    "Si todas las personas con retrazos prolongados en sus entregas decidieran cancelar las entregas:\n",
    "  \n",
    "    * ¿cuál serían el impacto económico de la compañía en millones?\n",
    "    * ¿a qué porcentaje de sus ventas equivaldría dicho impacto?"
   ]
  },
  {
   "attachments": {},
   "cell_type": "markdown",
   "metadata": {},
   "source": [
    "**Pivot Tables en Pandas**\n",
    "\n",
    "Para enriquecer en análisis, también se puede incorporar el impacto en ventas en el tiempo. Esto nos da oportunidad de introdución de la función `pivot_table` (https://pandas.pydata.org/docs/reference/api/pandas.pivot_table.html), que esencilmente permite calcular valores agregados en a lo larga de valores y columnas de una tabla."
   ]
  },
  {
   "attachments": {},
   "cell_type": "markdown",
   "metadata": {},
   "source": [
    "En el siguiente ejemplo, calcularemos las ventas a lo largo de los estatus de entrega `delay_status` y los diferentes años de las órdenes:"
   ]
  },
  {
   "cell_type": "code",
   "execution_count": 39,
   "metadata": {},
   "outputs": [
    {
     "data": {
      "text/html": [
       "<div>\n",
       "<style scoped>\n",
       "    .dataframe tbody tr th:only-of-type {\n",
       "        vertical-align: middle;\n",
       "    }\n",
       "\n",
       "    .dataframe tbody tr th {\n",
       "        vertical-align: top;\n",
       "    }\n",
       "\n",
       "    .dataframe thead th {\n",
       "        text-align: right;\n",
       "    }\n",
       "</style>\n",
       "<table border=\"1\" class=\"dataframe\">\n",
       "  <thead>\n",
       "    <tr style=\"text-align: right;\">\n",
       "      <th>year</th>\n",
       "      <th>2016</th>\n",
       "      <th>2017</th>\n",
       "      <th>2018</th>\n",
       "      <th>All</th>\n",
       "    </tr>\n",
       "    <tr>\n",
       "      <th>delay_status</th>\n",
       "      <th></th>\n",
       "      <th></th>\n",
       "      <th></th>\n",
       "      <th></th>\n",
       "    </tr>\n",
       "  </thead>\n",
       "  <tbody>\n",
       "    <tr>\n",
       "      <th>long_delay</th>\n",
       "      <td>205.97</td>\n",
       "      <td>317976.31</td>\n",
       "      <td>481376.55</td>\n",
       "      <td>799558.83</td>\n",
       "    </tr>\n",
       "    <tr>\n",
       "      <th>on_time</th>\n",
       "      <td>39988.14</td>\n",
       "      <td>5512145.79</td>\n",
       "      <td>6509194.49</td>\n",
       "      <td>12061328.42</td>\n",
       "    </tr>\n",
       "    <tr>\n",
       "      <th>short_delay</th>\n",
       "      <td>276.87</td>\n",
       "      <td>132779.91</td>\n",
       "      <td>227554.08</td>\n",
       "      <td>360610.86</td>\n",
       "    </tr>\n",
       "    <tr>\n",
       "      <th>All</th>\n",
       "      <td>40470.98</td>\n",
       "      <td>5962902.01</td>\n",
       "      <td>7218125.12</td>\n",
       "      <td>13221498.11</td>\n",
       "    </tr>\n",
       "  </tbody>\n",
       "</table>\n",
       "</div>"
      ],
      "text/plain": [
       "year              2016        2017        2018          All\n",
       "delay_status                                               \n",
       "long_delay      205.97   317976.31   481376.55    799558.83\n",
       "on_time       39988.14  5512145.79  6509194.49  12061328.42\n",
       "short_delay     276.87   132779.91   227554.08    360610.86\n",
       "All           40470.98  5962902.01  7218125.12  13221498.11"
      ]
     },
     "execution_count": 39,
     "metadata": {},
     "output_type": "execute_result"
    }
   ],
   "source": [
    "delivered.pivot_table(\n",
    "    # renglones\n",
    "    index='delay_status',\n",
    "    # columnas\n",
    "    columns = 'year',\n",
    "    # variable a calcula\n",
    "    values= 'total_sales',\n",
    "    # funcion para agrega la variable calculada\n",
    "    aggfunc= 'sum',\n",
    "    # agrega filas de totasl\n",
    "    margins=True\n",
    "    )\n"
   ]
  },
  {
   "attachments": {},
   "cell_type": "markdown",
   "metadata": {},
   "source": [
    "Esta tambla, también puede manipular con operaciones como hacemos con columnas de Pandas, por ejemplo, se puede expresar las sumas como millones al dividirlas ente 1000,000"
   ]
  },
  {
   "cell_type": "code",
   "execution_count": 40,
   "metadata": {},
   "outputs": [],
   "source": [
    "s = delivered.pivot_table(\n",
    "    # renglones\n",
    "    index='delay_status',\n",
    "    # columnas\n",
    "    columns = 'year',\n",
    "    # variable a calcula\n",
    "    values= 'total_sales',\n",
    "    # funcion para agrega la variable calculada\n",
    "    aggfunc= 'sum',\n",
    "    # agrega filas de totasl\n",
    "    margins=True\n",
    "    ).divide(1_000_000).round(4)"
   ]
  },
  {
   "cell_type": "code",
   "execution_count": 41,
   "metadata": {},
   "outputs": [
    {
     "data": {
      "text/html": [
       "<div>\n",
       "<style scoped>\n",
       "    .dataframe tbody tr th:only-of-type {\n",
       "        vertical-align: middle;\n",
       "    }\n",
       "\n",
       "    .dataframe tbody tr th {\n",
       "        vertical-align: top;\n",
       "    }\n",
       "\n",
       "    .dataframe thead th {\n",
       "        text-align: right;\n",
       "    }\n",
       "</style>\n",
       "<table border=\"1\" class=\"dataframe\">\n",
       "  <thead>\n",
       "    <tr style=\"text-align: right;\">\n",
       "      <th>year</th>\n",
       "      <th>2016</th>\n",
       "      <th>2017</th>\n",
       "      <th>2018</th>\n",
       "      <th>All</th>\n",
       "    </tr>\n",
       "    <tr>\n",
       "      <th>delay_status</th>\n",
       "      <th></th>\n",
       "      <th></th>\n",
       "      <th></th>\n",
       "      <th></th>\n",
       "    </tr>\n",
       "  </thead>\n",
       "  <tbody>\n",
       "    <tr>\n",
       "      <th>long_delay</th>\n",
       "      <td>0.0002</td>\n",
       "      <td>0.3180</td>\n",
       "      <td>0.4814</td>\n",
       "      <td>0.7996</td>\n",
       "    </tr>\n",
       "    <tr>\n",
       "      <th>on_time</th>\n",
       "      <td>0.0400</td>\n",
       "      <td>5.5121</td>\n",
       "      <td>6.5092</td>\n",
       "      <td>12.0613</td>\n",
       "    </tr>\n",
       "    <tr>\n",
       "      <th>short_delay</th>\n",
       "      <td>0.0003</td>\n",
       "      <td>0.1328</td>\n",
       "      <td>0.2276</td>\n",
       "      <td>0.3606</td>\n",
       "    </tr>\n",
       "    <tr>\n",
       "      <th>All</th>\n",
       "      <td>0.0405</td>\n",
       "      <td>5.9629</td>\n",
       "      <td>7.2181</td>\n",
       "      <td>13.2215</td>\n",
       "    </tr>\n",
       "  </tbody>\n",
       "</table>\n",
       "</div>"
      ],
      "text/plain": [
       "year            2016    2017    2018      All\n",
       "delay_status                                 \n",
       "long_delay    0.0002  0.3180  0.4814   0.7996\n",
       "on_time       0.0400  5.5121  6.5092  12.0613\n",
       "short_delay   0.0003  0.1328  0.2276   0.3606\n",
       "All           0.0405  5.9629  7.2181  13.2215"
      ]
     },
     "execution_count": 41,
     "metadata": {},
     "output_type": "execute_result"
    }
   ],
   "source": [
    "s"
   ]
  },
  {
   "attachments": {},
   "cell_type": "markdown",
   "metadata": {},
   "source": [
    "**Preguntas:**\n",
    "\n",
    "    * ¿En que año hubo más ventas?\n",
    "    * ¿En que periodo las ventas con retrazos fueron más altas?"
   ]
  },
  {
   "cell_type": "code",
   "execution_count": 42,
   "metadata": {},
   "outputs": [
    {
     "name": "stdout",
     "output_type": "stream",
     "text": [
      "2018\n"
     ]
    }
   ],
   "source": [
    "d=s.sum()\n",
    "vv = d.sort_values(ascending=False).index[1]\n",
    "print(d.sort_values(ascending=False).index[1])\n",
    "\n"
   ]
  },
  {
   "cell_type": "code",
   "execution_count": 43,
   "metadata": {},
   "outputs": [
    {
     "name": "stdout",
     "output_type": "stream",
     "text": [
      "el periodo del año 2018 y el periodo que mas se ve representado es el 0.4814\n"
     ]
    }
   ],
   "source": [
    "\n",
    "año=s.iloc[0]\n",
    "año1=año.sort_values(ascending=False)\n",
    "año2=año1.iloc[1]\n",
    "print('el periodo del año',vv,'y el periodo que mas se ve representado es el',año2)"
   ]
  },
  {
   "attachments": {},
   "cell_type": "markdown",
   "metadata": {},
   "source": [
    "Este mismo tipo de análsis se puede llevar a cabo a lo largo de los diferentes trimestres:"
   ]
  },
  {
   "attachments": {},
   "cell_type": "markdown",
   "metadata": {},
   "source": [
    "Podemos analizar también la proporción de las ventas que provienen de retrasos prolongadosa lo largo de los diferentes trimestres. Primero construyamos la pivot tables de ventas segmentada por `delay_status` a lo largo de `quarter`"
   ]
  },
  {
   "cell_type": "code",
   "execution_count": 44,
   "metadata": {},
   "outputs": [
    {
     "data": {
      "text/html": [
       "<div>\n",
       "<style scoped>\n",
       "    .dataframe tbody tr th:only-of-type {\n",
       "        vertical-align: middle;\n",
       "    }\n",
       "\n",
       "    .dataframe tbody tr th {\n",
       "        vertical-align: top;\n",
       "    }\n",
       "\n",
       "    .dataframe thead th {\n",
       "        text-align: right;\n",
       "    }\n",
       "</style>\n",
       "<table border=\"1\" class=\"dataframe\">\n",
       "  <thead>\n",
       "    <tr style=\"text-align: right;\">\n",
       "      <th>quarter</th>\n",
       "      <th>2016Q3</th>\n",
       "      <th>2016Q4</th>\n",
       "      <th>2017Q1</th>\n",
       "      <th>2017Q2</th>\n",
       "      <th>2017Q3</th>\n",
       "      <th>2017Q4</th>\n",
       "      <th>2018Q1</th>\n",
       "      <th>2018Q2</th>\n",
       "      <th>2018Q3</th>\n",
       "    </tr>\n",
       "    <tr>\n",
       "      <th>delay_status</th>\n",
       "      <th></th>\n",
       "      <th></th>\n",
       "      <th></th>\n",
       "      <th></th>\n",
       "      <th></th>\n",
       "      <th></th>\n",
       "      <th></th>\n",
       "      <th></th>\n",
       "      <th></th>\n",
       "    </tr>\n",
       "  </thead>\n",
       "  <tbody>\n",
       "    <tr>\n",
       "      <th>long_delay</th>\n",
       "      <td>134.97</td>\n",
       "      <td>71.00</td>\n",
       "      <td>22820.94</td>\n",
       "      <td>59045.57</td>\n",
       "      <td>49335.97</td>\n",
       "      <td>186773.83</td>\n",
       "      <td>321324.52</td>\n",
       "      <td>100992.94</td>\n",
       "      <td>59059.09</td>\n",
       "    </tr>\n",
       "    <tr>\n",
       "      <th>on_time</th>\n",
       "      <td>0.00</td>\n",
       "      <td>39988.14</td>\n",
       "      <td>675973.60</td>\n",
       "      <td>1167957.69</td>\n",
       "      <td>1573539.60</td>\n",
       "      <td>2094674.90</td>\n",
       "      <td>2276191.26</td>\n",
       "      <td>2657315.06</td>\n",
       "      <td>1575688.17</td>\n",
       "    </tr>\n",
       "    <tr>\n",
       "      <th>short_delay</th>\n",
       "      <td>0.00</td>\n",
       "      <td>276.87</td>\n",
       "      <td>6426.07</td>\n",
       "      <td>24928.04</td>\n",
       "      <td>20828.32</td>\n",
       "      <td>80597.48</td>\n",
       "      <td>106922.60</td>\n",
       "      <td>48848.64</td>\n",
       "      <td>71782.84</td>\n",
       "    </tr>\n",
       "  </tbody>\n",
       "</table>\n",
       "</div>"
      ],
      "text/plain": [
       "quarter       2016Q3    2016Q4     2017Q1      2017Q2      2017Q3      2017Q4  \\\n",
       "delay_status                                                                    \n",
       "long_delay    134.97     71.00   22820.94    59045.57    49335.97   186773.83   \n",
       "on_time         0.00  39988.14  675973.60  1167957.69  1573539.60  2094674.90   \n",
       "short_delay     0.00    276.87    6426.07    24928.04    20828.32    80597.48   \n",
       "\n",
       "quarter           2018Q1      2018Q2      2018Q3  \n",
       "delay_status                                      \n",
       "long_delay     321324.52   100992.94    59059.09  \n",
       "on_time       2276191.26  2657315.06  1575688.17  \n",
       "short_delay    106922.60    48848.64    71782.84  "
      ]
     },
     "execution_count": 44,
     "metadata": {},
     "output_type": "execute_result"
    }
   ],
   "source": [
    "delivered.pivot_table(\n",
    "    index='delay_status',\n",
    "    columns = 'quarter',\n",
    "    values= 'total_sales',\n",
    "    aggfunc= 'sum',\n",
    "    fill_value=0\n",
    "    )"
   ]
  },
  {
   "attachments": {},
   "cell_type": "markdown",
   "metadata": {},
   "source": [
    "A la tabla anterior, se le puede aplicar un función que calcule las proporciones dentro de ventas dentro de cada categoría:"
   ]
  },
  {
   "cell_type": "code",
   "execution_count": 45,
   "metadata": {},
   "outputs": [],
   "source": [
    "# Aplica la función lambda x:   x / float(x.sum() sobre\n",
    "# renglones (axis=0)\n",
    "\n",
    "a=delivered.pivot_table(\n",
    "    index='delay_status',\n",
    "    columns = 'quarter',\n",
    "    values= 'total_sales',\n",
    "    aggfunc= 'sum',\n",
    "    #margins=True,\n",
    "    fill_value=0\n",
    "    ).apply(lambda x:   x / float(x.sum()), axis=0).round(2)"
   ]
  },
  {
   "cell_type": "code",
   "execution_count": 46,
   "metadata": {},
   "outputs": [],
   "source": [
    "a=a.drop(columns=['2016Q3'])"
   ]
  },
  {
   "attachments": {},
   "cell_type": "markdown",
   "metadata": {},
   "source": [
    "**Problemas:**\n",
    "\n",
    "+ ¿Qué sucedió entre el último trimestre de 2017 y el primer trimestre de 2018?\n",
    "+ ¿Existe alguna relación con el valor que representar las ventas con retrasos y los picos de ventas de la tienda?\n",
    "+ De ser el caso, ¿qué es lo que esto implica para la escala de ventas y la operación de logística de la empresa?"
   ]
  },
  {
   "cell_type": "code",
   "execution_count": 47,
   "metadata": {},
   "outputs": [
    {
     "data": {
      "image/png": "[encoded data removed]",
      "text/plain": [
       "<Figure size 640x480 with 1 Axes>"
      ]
     },
     "metadata": {},
     "output_type": "display_data"
    }
   ],
   "source": [
    "\n",
    "# Selecciona la primera fila del dataframe\n",
    "fila_1 = a.loc['long_delay']\n",
    "\n",
    "# Grafica los datos de la primera fila\n",
    "fila_1.plot(kind='bar')\n",
    "\n",
    "# Añade títulos y etiquetas\n",
    "plt.title('Trimestres que mas tuvieron largos retrasos')\n",
    "plt.xlabel('Trimestres')\n",
    "plt.ylabel('porcentaje')\n",
    "\n",
    "# Muestra la gráfica\n",
    "plt.show()"
   ]
  },
  {
   "cell_type": "code",
   "execution_count": 48,
   "metadata": {},
   "outputs": [
    {
     "data": {
      "text/html": [
       "<div>\n",
       "<style scoped>\n",
       "    .dataframe tbody tr th:only-of-type {\n",
       "        vertical-align: middle;\n",
       "    }\n",
       "\n",
       "    .dataframe tbody tr th {\n",
       "        vertical-align: top;\n",
       "    }\n",
       "\n",
       "    .dataframe thead th {\n",
       "        text-align: right;\n",
       "    }\n",
       "</style>\n",
       "<table border=\"1\" class=\"dataframe\">\n",
       "  <thead>\n",
       "    <tr style=\"text-align: right;\">\n",
       "      <th></th>\n",
       "      <th>order_id</th>\n",
       "      <th>customer_id</th>\n",
       "      <th>order_status</th>\n",
       "      <th>order_purchase_timestamp</th>\n",
       "      <th>order_approved_at</th>\n",
       "      <th>order_delivered_carrier_date</th>\n",
       "      <th>order_delivered_customer_date</th>\n",
       "      <th>order_estimated_delivery_date</th>\n",
       "      <th>distance_distribution_center</th>\n",
       "      <th>year</th>\n",
       "      <th>...</th>\n",
       "      <th>customer_zip_code_prefix</th>\n",
       "      <th>customer_city</th>\n",
       "      <th>customer_state</th>\n",
       "      <th>geolocation_zip_code_prefix</th>\n",
       "      <th>geolocation_lat</th>\n",
       "      <th>geolocation_lng</th>\n",
       "      <th>geolocation_city</th>\n",
       "      <th>geolocation_state</th>\n",
       "      <th>abbreviation</th>\n",
       "      <th>state_name</th>\n",
       "    </tr>\n",
       "  </thead>\n",
       "  <tbody>\n",
       "    <tr>\n",
       "      <th>0</th>\n",
       "      <td>e481f51cbdc54678b7cc49136f2d6af7</td>\n",
       "      <td>9ef432eb6251297304e76186b10a928d</td>\n",
       "      <td>delivered</td>\n",
       "      <td>2017-10-02 10:56:33</td>\n",
       "      <td>2017-10-02 11:07:15</td>\n",
       "      <td>2017-10-04 19:55:00</td>\n",
       "      <td>2017-10-10 21:25:13</td>\n",
       "      <td>2017-10-18</td>\n",
       "      <td>29.84</td>\n",
       "      <td>2017</td>\n",
       "      <td>...</td>\n",
       "      <td>3149</td>\n",
       "      <td>sao paulo</td>\n",
       "      <td>SP</td>\n",
       "      <td>3149.0</td>\n",
       "      <td>-23.574809</td>\n",
       "      <td>-46.587471</td>\n",
       "      <td>sao paulo</td>\n",
       "      <td>SP</td>\n",
       "      <td>SP</td>\n",
       "      <td>São Paulo</td>\n",
       "    </tr>\n",
       "    <tr>\n",
       "      <th>1</th>\n",
       "      <td>53cdb2fc8bc7dce0b6741e2150273451</td>\n",
       "      <td>b0830fb4747a6c6d20dea0b8c802d7ef</td>\n",
       "      <td>delivered</td>\n",
       "      <td>2018-07-24 20:41:37</td>\n",
       "      <td>2018-07-26 03:24:27</td>\n",
       "      <td>2018-07-26 14:31:00</td>\n",
       "      <td>2018-08-07 15:27:45</td>\n",
       "      <td>2018-08-13</td>\n",
       "      <td>25.53</td>\n",
       "      <td>2018</td>\n",
       "      <td>...</td>\n",
       "      <td>47813</td>\n",
       "      <td>barreiras</td>\n",
       "      <td>BA</td>\n",
       "      <td>47813.0</td>\n",
       "      <td>-12.169860</td>\n",
       "      <td>-44.988369</td>\n",
       "      <td>barreiras</td>\n",
       "      <td>BA</td>\n",
       "      <td>BA</td>\n",
       "      <td>Bahia</td>\n",
       "    </tr>\n",
       "    <tr>\n",
       "      <th>2</th>\n",
       "      <td>47770eb9100c2d0c44946d9cf07ec65d</td>\n",
       "      <td>41ce2a54c0b03bf3443c3d931a367089</td>\n",
       "      <td>delivered</td>\n",
       "      <td>2018-08-08 08:38:49</td>\n",
       "      <td>2018-08-08 08:55:23</td>\n",
       "      <td>2018-08-08 13:50:00</td>\n",
       "      <td>2018-08-17 18:06:29</td>\n",
       "      <td>2018-09-04</td>\n",
       "      <td>61.56</td>\n",
       "      <td>2018</td>\n",
       "      <td>...</td>\n",
       "      <td>75265</td>\n",
       "      <td>vianopolis</td>\n",
       "      <td>GO</td>\n",
       "      <td>75265.0</td>\n",
       "      <td>-16.746337</td>\n",
       "      <td>-48.514624</td>\n",
       "      <td>vianopolis</td>\n",
       "      <td>GO</td>\n",
       "      <td>GO</td>\n",
       "      <td>Goiás</td>\n",
       "    </tr>\n",
       "    <tr>\n",
       "      <th>3</th>\n",
       "      <td>949d5b44dbf5de918fe9c16f97b45f8a</td>\n",
       "      <td>f88197465ea7920adcdbec7375364d82</td>\n",
       "      <td>delivered</td>\n",
       "      <td>2017-11-18 19:28:06</td>\n",
       "      <td>2017-11-18 19:45:59</td>\n",
       "      <td>2017-11-22 13:39:59</td>\n",
       "      <td>2017-12-02 00:28:42</td>\n",
       "      <td>2017-12-15</td>\n",
       "      <td>60.30</td>\n",
       "      <td>2017</td>\n",
       "      <td>...</td>\n",
       "      <td>59296</td>\n",
       "      <td>sao goncalo do amarante</td>\n",
       "      <td>RN</td>\n",
       "      <td>59296.0</td>\n",
       "      <td>-5.767733</td>\n",
       "      <td>-35.275467</td>\n",
       "      <td>sao goncalo do amarante</td>\n",
       "      <td>RN</td>\n",
       "      <td>RN</td>\n",
       "      <td>Rio Grande do Norte</td>\n",
       "    </tr>\n",
       "    <tr>\n",
       "      <th>4</th>\n",
       "      <td>ad21c59c0840e6cb83a9ceb5573f8159</td>\n",
       "      <td>8ab97904e6daea8866dbdbc4fb7aad2c</td>\n",
       "      <td>delivered</td>\n",
       "      <td>2018-02-13 21:18:39</td>\n",
       "      <td>2018-02-13 22:20:29</td>\n",
       "      <td>2018-02-14 19:46:34</td>\n",
       "      <td>2018-02-16 18:17:02</td>\n",
       "      <td>2018-02-26</td>\n",
       "      <td>80.97</td>\n",
       "      <td>2018</td>\n",
       "      <td>...</td>\n",
       "      <td>9195</td>\n",
       "      <td>santo andre</td>\n",
       "      <td>SP</td>\n",
       "      <td>9195.0</td>\n",
       "      <td>-23.675037</td>\n",
       "      <td>-46.524784</td>\n",
       "      <td>santo andre</td>\n",
       "      <td>SP</td>\n",
       "      <td>SP</td>\n",
       "      <td>São Paulo</td>\n",
       "    </tr>\n",
       "    <tr>\n",
       "      <th>...</th>\n",
       "      <td>...</td>\n",
       "      <td>...</td>\n",
       "      <td>...</td>\n",
       "      <td>...</td>\n",
       "      <td>...</td>\n",
       "      <td>...</td>\n",
       "      <td>...</td>\n",
       "      <td>...</td>\n",
       "      <td>...</td>\n",
       "      <td>...</td>\n",
       "      <td>...</td>\n",
       "      <td>...</td>\n",
       "      <td>...</td>\n",
       "      <td>...</td>\n",
       "      <td>...</td>\n",
       "      <td>...</td>\n",
       "      <td>...</td>\n",
       "      <td>...</td>\n",
       "      <td>...</td>\n",
       "      <td>...</td>\n",
       "      <td>...</td>\n",
       "    </tr>\n",
       "    <tr>\n",
       "      <th>99436</th>\n",
       "      <td>9c5dedf39a927c1b2549525ed64a053c</td>\n",
       "      <td>39bd1228ee8140590ac3aca26f2dfe00</td>\n",
       "      <td>delivered</td>\n",
       "      <td>2017-03-09 09:54:05</td>\n",
       "      <td>2017-03-09 09:54:05</td>\n",
       "      <td>2017-03-10 11:18:03</td>\n",
       "      <td>2017-03-17 15:08:01</td>\n",
       "      <td>2017-03-28</td>\n",
       "      <td>68.26</td>\n",
       "      <td>2017</td>\n",
       "      <td>...</td>\n",
       "      <td>12209</td>\n",
       "      <td>sao jose dos campos</td>\n",
       "      <td>SP</td>\n",
       "      <td>12209.0</td>\n",
       "      <td>-23.178732</td>\n",
       "      <td>-45.889711</td>\n",
       "      <td>são josé dos campos</td>\n",
       "      <td>SP</td>\n",
       "      <td>SP</td>\n",
       "      <td>São Paulo</td>\n",
       "    </tr>\n",
       "    <tr>\n",
       "      <th>99437</th>\n",
       "      <td>63943bddc261676b46f01ca7ac2f7bd8</td>\n",
       "      <td>1fca14ff2861355f6e5f14306ff977a7</td>\n",
       "      <td>delivered</td>\n",
       "      <td>2018-02-06 12:58:58</td>\n",
       "      <td>2018-02-06 13:10:37</td>\n",
       "      <td>2018-02-07 23:22:42</td>\n",
       "      <td>2018-02-28 17:37:56</td>\n",
       "      <td>2018-03-02</td>\n",
       "      <td>14.92</td>\n",
       "      <td>2018</td>\n",
       "      <td>...</td>\n",
       "      <td>11722</td>\n",
       "      <td>praia grande</td>\n",
       "      <td>SP</td>\n",
       "      <td>11722.0</td>\n",
       "      <td>-24.001467</td>\n",
       "      <td>-46.446355</td>\n",
       "      <td>praia grande</td>\n",
       "      <td>SP</td>\n",
       "      <td>SP</td>\n",
       "      <td>São Paulo</td>\n",
       "    </tr>\n",
       "    <tr>\n",
       "      <th>99438</th>\n",
       "      <td>83c1379a015df1e13d02aae0204711ab</td>\n",
       "      <td>1aa71eb042121263aafbe80c1b562c9c</td>\n",
       "      <td>delivered</td>\n",
       "      <td>2017-08-27 14:46:43</td>\n",
       "      <td>2017-08-27 15:04:16</td>\n",
       "      <td>2017-08-28 20:52:26</td>\n",
       "      <td>2017-09-21 11:24:17</td>\n",
       "      <td>2017-09-27</td>\n",
       "      <td>36.37</td>\n",
       "      <td>2017</td>\n",
       "      <td>...</td>\n",
       "      <td>45920</td>\n",
       "      <td>nova vicosa</td>\n",
       "      <td>BA</td>\n",
       "      <td>45920.0</td>\n",
       "      <td>-17.891522</td>\n",
       "      <td>-39.370942</td>\n",
       "      <td>nova vicosa</td>\n",
       "      <td>BA</td>\n",
       "      <td>BA</td>\n",
       "      <td>Bahia</td>\n",
       "    </tr>\n",
       "    <tr>\n",
       "      <th>99439</th>\n",
       "      <td>11c177c8e97725db2631073c19f07b62</td>\n",
       "      <td>b331b74b18dc79bcdf6532d51e1637c1</td>\n",
       "      <td>delivered</td>\n",
       "      <td>2018-01-08 21:28:27</td>\n",
       "      <td>2018-01-08 21:36:21</td>\n",
       "      <td>2018-01-12 15:35:03</td>\n",
       "      <td>2018-01-25 23:32:54</td>\n",
       "      <td>2018-02-15</td>\n",
       "      <td>32.04</td>\n",
       "      <td>2018</td>\n",
       "      <td>...</td>\n",
       "      <td>28685</td>\n",
       "      <td>japuiba</td>\n",
       "      <td>RJ</td>\n",
       "      <td>28685.0</td>\n",
       "      <td>-22.555985</td>\n",
       "      <td>-42.690761</td>\n",
       "      <td>japuiba</td>\n",
       "      <td>RJ</td>\n",
       "      <td>RJ</td>\n",
       "      <td>Rio de Janeiro</td>\n",
       "    </tr>\n",
       "    <tr>\n",
       "      <th>99440</th>\n",
       "      <td>66dea50a8b16d9b4dee7af250b4be1a5</td>\n",
       "      <td>edb027a75a1449115f6b43211ae02a24</td>\n",
       "      <td>delivered</td>\n",
       "      <td>2018-03-08 20:57:30</td>\n",
       "      <td>2018-03-09 11:20:28</td>\n",
       "      <td>2018-03-09 22:11:59</td>\n",
       "      <td>2018-03-16 13:08:30</td>\n",
       "      <td>2018-04-03</td>\n",
       "      <td>3.54</td>\n",
       "      <td>2018</td>\n",
       "      <td>...</td>\n",
       "      <td>83750</td>\n",
       "      <td>lapa</td>\n",
       "      <td>PR</td>\n",
       "      <td>83750.0</td>\n",
       "      <td>-25.775722</td>\n",
       "      <td>-49.723981</td>\n",
       "      <td>lapa</td>\n",
       "      <td>PR</td>\n",
       "      <td>PR</td>\n",
       "      <td>Paraná</td>\n",
       "    </tr>\n",
       "  </tbody>\n",
       "</table>\n",
       "<p>96478 rows × 28 columns</p>\n",
       "</div>"
      ],
      "text/plain": [
       "                               order_id                       customer_id  \\\n",
       "0      e481f51cbdc54678b7cc49136f2d6af7  9ef432eb6251297304e76186b10a928d   \n",
       "1      53cdb2fc8bc7dce0b6741e2150273451  b0830fb4747a6c6d20dea0b8c802d7ef   \n",
       "2      47770eb9100c2d0c44946d9cf07ec65d  41ce2a54c0b03bf3443c3d931a367089   \n",
       "3      949d5b44dbf5de918fe9c16f97b45f8a  f88197465ea7920adcdbec7375364d82   \n",
       "4      ad21c59c0840e6cb83a9ceb5573f8159  8ab97904e6daea8866dbdbc4fb7aad2c   \n",
       "...                                 ...                               ...   \n",
       "99436  9c5dedf39a927c1b2549525ed64a053c  39bd1228ee8140590ac3aca26f2dfe00   \n",
       "99437  63943bddc261676b46f01ca7ac2f7bd8  1fca14ff2861355f6e5f14306ff977a7   \n",
       "99438  83c1379a015df1e13d02aae0204711ab  1aa71eb042121263aafbe80c1b562c9c   \n",
       "99439  11c177c8e97725db2631073c19f07b62  b331b74b18dc79bcdf6532d51e1637c1   \n",
       "99440  66dea50a8b16d9b4dee7af250b4be1a5  edb027a75a1449115f6b43211ae02a24   \n",
       "\n",
       "      order_status order_purchase_timestamp   order_approved_at  \\\n",
       "0        delivered      2017-10-02 10:56:33 2017-10-02 11:07:15   \n",
       "1        delivered      2018-07-24 20:41:37 2018-07-26 03:24:27   \n",
       "2        delivered      2018-08-08 08:38:49 2018-08-08 08:55:23   \n",
       "3        delivered      2017-11-18 19:28:06 2017-11-18 19:45:59   \n",
       "4        delivered      2018-02-13 21:18:39 2018-02-13 22:20:29   \n",
       "...            ...                      ...                 ...   \n",
       "99436    delivered      2017-03-09 09:54:05 2017-03-09 09:54:05   \n",
       "99437    delivered      2018-02-06 12:58:58 2018-02-06 13:10:37   \n",
       "99438    delivered      2017-08-27 14:46:43 2017-08-27 15:04:16   \n",
       "99439    delivered      2018-01-08 21:28:27 2018-01-08 21:36:21   \n",
       "99440    delivered      2018-03-08 20:57:30 2018-03-09 11:20:28   \n",
       "\n",
       "      order_delivered_carrier_date order_delivered_customer_date  \\\n",
       "0              2017-10-04 19:55:00           2017-10-10 21:25:13   \n",
       "1              2018-07-26 14:31:00           2018-08-07 15:27:45   \n",
       "2              2018-08-08 13:50:00           2018-08-17 18:06:29   \n",
       "3              2017-11-22 13:39:59           2017-12-02 00:28:42   \n",
       "4              2018-02-14 19:46:34           2018-02-16 18:17:02   \n",
       "...                            ...                           ...   \n",
       "99436          2017-03-10 11:18:03           2017-03-17 15:08:01   \n",
       "99437          2018-02-07 23:22:42           2018-02-28 17:37:56   \n",
       "99438          2017-08-28 20:52:26           2017-09-21 11:24:17   \n",
       "99439          2018-01-12 15:35:03           2018-01-25 23:32:54   \n",
       "99440          2018-03-09 22:11:59           2018-03-16 13:08:30   \n",
       "\n",
       "      order_estimated_delivery_date  distance_distribution_center  year  ...  \\\n",
       "0                        2017-10-18                         29.84  2017  ...   \n",
       "1                        2018-08-13                         25.53  2018  ...   \n",
       "2                        2018-09-04                         61.56  2018  ...   \n",
       "3                        2017-12-15                         60.30  2017  ...   \n",
       "4                        2018-02-26                         80.97  2018  ...   \n",
       "...                             ...                           ...   ...  ...   \n",
       "99436                    2017-03-28                         68.26  2017  ...   \n",
       "99437                    2018-03-02                         14.92  2018  ...   \n",
       "99438                    2017-09-27                         36.37  2017  ...   \n",
       "99439                    2018-02-15                         32.04  2018  ...   \n",
       "99440                    2018-04-03                          3.54  2018  ...   \n",
       "\n",
       "       customer_zip_code_prefix            customer_city customer_state  \\\n",
       "0                          3149                sao paulo             SP   \n",
       "1                         47813                barreiras             BA   \n",
       "2                         75265               vianopolis             GO   \n",
       "3                         59296  sao goncalo do amarante             RN   \n",
       "4                          9195              santo andre             SP   \n",
       "...                         ...                      ...            ...   \n",
       "99436                     12209      sao jose dos campos             SP   \n",
       "99437                     11722             praia grande             SP   \n",
       "99438                     45920              nova vicosa             BA   \n",
       "99439                     28685                  japuiba             RJ   \n",
       "99440                     83750                     lapa             PR   \n",
       "\n",
       "       geolocation_zip_code_prefix geolocation_lat  geolocation_lng  \\\n",
       "0                           3149.0      -23.574809       -46.587471   \n",
       "1                          47813.0      -12.169860       -44.988369   \n",
       "2                          75265.0      -16.746337       -48.514624   \n",
       "3                          59296.0       -5.767733       -35.275467   \n",
       "4                           9195.0      -23.675037       -46.524784   \n",
       "...                            ...             ...              ...   \n",
       "99436                      12209.0      -23.178732       -45.889711   \n",
       "99437                      11722.0      -24.001467       -46.446355   \n",
       "99438                      45920.0      -17.891522       -39.370942   \n",
       "99439                      28685.0      -22.555985       -42.690761   \n",
       "99440                      83750.0      -25.775722       -49.723981   \n",
       "\n",
       "              geolocation_city geolocation_state  abbreviation  \\\n",
       "0                    sao paulo                SP            SP   \n",
       "1                    barreiras                BA            BA   \n",
       "2                   vianopolis                GO            GO   \n",
       "3      sao goncalo do amarante                RN            RN   \n",
       "4                  santo andre                SP            SP   \n",
       "...                        ...               ...           ...   \n",
       "99436      são josé dos campos                SP            SP   \n",
       "99437             praia grande                SP            SP   \n",
       "99438              nova vicosa                BA            BA   \n",
       "99439                  japuiba                RJ            RJ   \n",
       "99440                     lapa                PR            PR   \n",
       "\n",
       "                state_name  \n",
       "0                São Paulo  \n",
       "1                    Bahia  \n",
       "2                    Goiás  \n",
       "3      Rio Grande do Norte  \n",
       "4                São Paulo  \n",
       "...                    ...  \n",
       "99436            São Paulo  \n",
       "99437            São Paulo  \n",
       "99438                Bahia  \n",
       "99439       Rio de Janeiro  \n",
       "99440               Paraná  \n",
       "\n",
       "[96478 rows x 28 columns]"
      ]
     },
     "execution_count": 48,
     "metadata": {},
     "output_type": "execute_result"
    }
   ],
   "source": [
    "delivered"
   ]
  },
  {
   "attachments": {},
   "cell_type": "markdown",
   "metadata": {},
   "source": [
    "**Tablas de contingencia en Pandas**\n",
    "\n",
    "De manera similar a las Pivot Tables, Pandas posee herramientas para realizar cruces entre variables de tipo categóricas, que se pueden comparar mediante conteos. Estas herramientas se pueden construir con la función `.crosstab` (https://pandas.pydata.org/docs/reference/api/pandas.crosstab.html)\n",
    "\n",
    "En este caso, solo tenemos que pasar las columnas que se quieren comparar y Pandas realizará los conteos correspondientes:"
   ]
  },
  {
   "cell_type": "code",
   "execution_count": 49,
   "metadata": {},
   "outputs": [
    {
     "data": {
      "text/html": [
       "<div>\n",
       "<style scoped>\n",
       "    .dataframe tbody tr th:only-of-type {\n",
       "        vertical-align: middle;\n",
       "    }\n",
       "\n",
       "    .dataframe tbody tr th {\n",
       "        vertical-align: top;\n",
       "    }\n",
       "\n",
       "    .dataframe thead th {\n",
       "        text-align: right;\n",
       "    }\n",
       "</style>\n",
       "<table border=\"1\" class=\"dataframe\">\n",
       "  <thead>\n",
       "    <tr style=\"text-align: right;\">\n",
       "      <th>year</th>\n",
       "      <th>2016</th>\n",
       "      <th>2017</th>\n",
       "      <th>2018</th>\n",
       "    </tr>\n",
       "    <tr>\n",
       "      <th>delay_status</th>\n",
       "      <th></th>\n",
       "      <th></th>\n",
       "      <th></th>\n",
       "    </tr>\n",
       "  </thead>\n",
       "  <tbody>\n",
       "    <tr>\n",
       "      <th>long_delay</th>\n",
       "      <td>2</td>\n",
       "      <td>1926</td>\n",
       "      <td>3237</td>\n",
       "    </tr>\n",
       "    <tr>\n",
       "      <th>on_time</th>\n",
       "      <td>268</td>\n",
       "      <td>40548</td>\n",
       "      <td>47833</td>\n",
       "    </tr>\n",
       "    <tr>\n",
       "      <th>short_delay</th>\n",
       "      <td>59</td>\n",
       "      <td>2627</td>\n",
       "      <td>2941</td>\n",
       "    </tr>\n",
       "  </tbody>\n",
       "</table>\n",
       "</div>"
      ],
      "text/plain": [
       "year          2016   2017   2018\n",
       "delay_status                    \n",
       "long_delay       2   1926   3237\n",
       "on_time        268  40548  47833\n",
       "short_delay     59   2627   2941"
      ]
     },
     "execution_count": 49,
     "metadata": {},
     "output_type": "execute_result"
    }
   ],
   "source": [
    "pd.crosstab(\n",
    "    oilst['delay_status'],\n",
    "    oilst['year']\n",
    ")"
   ]
  },
  {
   "attachments": {},
   "cell_type": "markdown",
   "metadata": {},
   "source": [
    "Ahora añadiremos la variable `normalize=True`:"
   ]
  },
  {
   "cell_type": "code",
   "execution_count": 50,
   "metadata": {},
   "outputs": [
    {
     "data": {
      "text/html": [
       "<div>\n",
       "<style scoped>\n",
       "    .dataframe tbody tr th:only-of-type {\n",
       "        vertical-align: middle;\n",
       "    }\n",
       "\n",
       "    .dataframe tbody tr th {\n",
       "        vertical-align: top;\n",
       "    }\n",
       "\n",
       "    .dataframe thead th {\n",
       "        text-align: right;\n",
       "    }\n",
       "</style>\n",
       "<table border=\"1\" class=\"dataframe\">\n",
       "  <thead>\n",
       "    <tr style=\"text-align: right;\">\n",
       "      <th>year</th>\n",
       "      <th>2016</th>\n",
       "      <th>2017</th>\n",
       "      <th>2018</th>\n",
       "    </tr>\n",
       "    <tr>\n",
       "      <th>delay_status</th>\n",
       "      <th></th>\n",
       "      <th></th>\n",
       "      <th></th>\n",
       "    </tr>\n",
       "  </thead>\n",
       "  <tbody>\n",
       "    <tr>\n",
       "      <th>long_delay</th>\n",
       "      <td>0.000020</td>\n",
       "      <td>0.019368</td>\n",
       "      <td>0.032552</td>\n",
       "    </tr>\n",
       "    <tr>\n",
       "      <th>on_time</th>\n",
       "      <td>0.002695</td>\n",
       "      <td>0.407759</td>\n",
       "      <td>0.481019</td>\n",
       "    </tr>\n",
       "    <tr>\n",
       "      <th>short_delay</th>\n",
       "      <td>0.000593</td>\n",
       "      <td>0.026418</td>\n",
       "      <td>0.029575</td>\n",
       "    </tr>\n",
       "  </tbody>\n",
       "</table>\n",
       "</div>"
      ],
      "text/plain": [
       "year              2016      2017      2018\n",
       "delay_status                              \n",
       "long_delay    0.000020  0.019368  0.032552\n",
       "on_time       0.002695  0.407759  0.481019\n",
       "short_delay   0.000593  0.026418  0.029575"
      ]
     },
     "execution_count": 50,
     "metadata": {},
     "output_type": "execute_result"
    }
   ],
   "source": [
    "pd.crosstab(\n",
    "    oilst['delay_status'],\n",
    "    oilst['year'],\n",
    "    normalize=True\n",
    ")"
   ]
  },
  {
   "attachments": {},
   "cell_type": "markdown",
   "metadata": {},
   "source": [
    "**Preguntas**\n",
    "\n",
    "* ¿Qué no dice la tabla anterior acerca de la tendencia de casos con demoras prolongadas en entregas de órdenes? ¿Se ha incrementado a lo largo de los años o ha disminuido?\n",
    "* ¿Qué representa lo anterior para la empresa Oilst?"
   ]
  },
  {
   "cell_type": "code",
   "execution_count": 90,
   "metadata": {},
   "outputs": [
    {
     "data": {
      "text/html": [
       "<div>\n",
       "<style scoped>\n",
       "    .dataframe tbody tr th:only-of-type {\n",
       "        vertical-align: middle;\n",
       "    }\n",
       "\n",
       "    .dataframe tbody tr th {\n",
       "        vertical-align: top;\n",
       "    }\n",
       "\n",
       "    .dataframe thead th {\n",
       "        text-align: right;\n",
       "    }\n",
       "</style>\n",
       "<table border=\"1\" class=\"dataframe\">\n",
       "  <thead>\n",
       "    <tr style=\"text-align: right;\">\n",
       "      <th>delay_status</th>\n",
       "      <th>long_delay</th>\n",
       "      <th>on_time</th>\n",
       "      <th>short_delay</th>\n",
       "      <th>All</th>\n",
       "    </tr>\n",
       "    <tr>\n",
       "      <th>total_products</th>\n",
       "      <th></th>\n",
       "      <th></th>\n",
       "      <th></th>\n",
       "      <th></th>\n",
       "    </tr>\n",
       "  </thead>\n",
       "  <tbody>\n",
       "    <tr>\n",
       "      <th>15.0</th>\n",
       "      <td>0</td>\n",
       "      <td>2</td>\n",
       "      <td>0</td>\n",
       "      <td>2</td>\n",
       "    </tr>\n",
       "    <tr>\n",
       "      <th>20.0</th>\n",
       "      <td>0</td>\n",
       "      <td>2</td>\n",
       "      <td>0</td>\n",
       "      <td>2</td>\n",
       "    </tr>\n",
       "    <tr>\n",
       "      <th>21.0</th>\n",
       "      <td>1</td>\n",
       "      <td>0</td>\n",
       "      <td>0</td>\n",
       "      <td>1</td>\n",
       "    </tr>\n",
       "    <tr>\n",
       "      <th>5.0</th>\n",
       "      <td>7</td>\n",
       "      <td>180</td>\n",
       "      <td>17</td>\n",
       "      <td>204</td>\n",
       "    </tr>\n",
       "    <tr>\n",
       "      <th>6.0</th>\n",
       "      <td>11</td>\n",
       "      <td>175</td>\n",
       "      <td>12</td>\n",
       "      <td>198</td>\n",
       "    </tr>\n",
       "    <tr>\n",
       "      <th>4.0</th>\n",
       "      <td>17</td>\n",
       "      <td>467</td>\n",
       "      <td>21</td>\n",
       "      <td>505</td>\n",
       "    </tr>\n",
       "    <tr>\n",
       "      <th>3.0</th>\n",
       "      <td>49</td>\n",
       "      <td>1225</td>\n",
       "      <td>48</td>\n",
       "      <td>1322</td>\n",
       "    </tr>\n",
       "    <tr>\n",
       "      <th>2.0</th>\n",
       "      <td>307</td>\n",
       "      <td>6903</td>\n",
       "      <td>306</td>\n",
       "      <td>7516</td>\n",
       "    </tr>\n",
       "    <tr>\n",
       "      <th>1.0</th>\n",
       "      <td>4773</td>\n",
       "      <td>79642</td>\n",
       "      <td>4448</td>\n",
       "      <td>88863</td>\n",
       "    </tr>\n",
       "    <tr>\n",
       "      <th>All</th>\n",
       "      <td>5165</td>\n",
       "      <td>88649</td>\n",
       "      <td>4852</td>\n",
       "      <td>98666</td>\n",
       "    </tr>\n",
       "  </tbody>\n",
       "</table>\n",
       "</div>"
      ],
      "text/plain": [
       "delay_status    long_delay  on_time  short_delay    All\n",
       "total_products                                         \n",
       "15.0                     0        2            0      2\n",
       "20.0                     0        2            0      2\n",
       "21.0                     1        0            0      1\n",
       "5.0                      7      180           17    204\n",
       "6.0                     11      175           12    198\n",
       "4.0                     17      467           21    505\n",
       "3.0                     49     1225           48   1322\n",
       "2.0                    307     6903          306   7516\n",
       "1.0                   4773    79642         4448  88863\n",
       "All                   5165    88649         4852  98666"
      ]
     },
     "execution_count": 90,
     "metadata": {},
     "output_type": "execute_result"
    }
   ],
   "source": [
    " pd.crosstab(\n",
    "     oilst['total_products'],\n",
    "     oilst['delay_status'],\n",
    "     margins = True\n",
    " ).sort_values(['long_delay']).tail(10)"
   ]
  },
  {
   "attachments": {},
   "cell_type": "markdown",
   "metadata": {},
   "source": [
    "### 4.6 Elementos de análisis estadístico"
   ]
  },
  {
   "attachments": {},
   "cell_type": "markdown",
   "metadata": {},
   "source": [
    "En estadística, existe uno de los conceptos más útiltes para apreciar un fenómenos a través de muchas de sus observaciones es el de **histograma de frecuencias**, \n",
    "\n",
    "Esta herramienta gráfica que muestra cuantas veces ocurren las diferentes valores en un conjunto de datos. En otras palabras, representa cuántas veces aparece cada valor en el conjunto de datos, usando un diagrama de \n",
    " gráfica con barras que muestran la frecuencia con la que aparece cada uno de los valores que típicamente se agrupan en intervalos para facilitar el conteo (`bins`, en inglés).\n",
    "\n",
    " Un histograma puede ayudarnos a identificar patrones en la distribución de los datos, como si las notas están concentradas en un rango estrecho o si están más dispersas.\n",
    "\n",
    "La curva que dibuja un histograma se puede dividir entre el número de casos totales y con ello aproximar la probabilidad de que un fenómeno determinado ocurra para un valor o un rango de valores de interés (por ejemplo, la probabilidad de que una orden llegue 3 o menos días respecto a la fecha de entrega). Estas curvas son conceptos matemáticos muy relevantes, pues sirven para crear modelos probabilísticos de los fenómenos.\n"
   ]
  },
  {
   "attachments": {},
   "cell_type": "markdown",
   "metadata": {},
   "source": [
    "En Python, la librería Matplotlib permite construir el histograma de frecuencias de una manera sencilla con la función `.hist`:"
   ]
  },
  {
   "cell_type": "code",
   "execution_count": 52,
   "metadata": {},
   "outputs": [
    {
     "data": {
      "text/plain": [
       "Text(0, 0.5, '# Ocurrencias')"
      ]
     },
     "execution_count": 52,
     "metadata": {},
     "output_type": "execute_result"
    },
    {
     "data": {
      "image/png": "[encoded data removed]",
      "text/plain": [
       "<Figure size 1000x500 with 1 Axes>"
      ]
     },
     "metadata": {},
     "output_type": "display_data"
    }
   ],
   "source": [
    "import matplotlib.pyplot as plt \n",
    "\n",
    "# figura y eje de la figura\n",
    "fig, ax = plt.subplots(figsize=(10, 5))\n",
    "\n",
    "# numero de intervalos para conteos\n",
    "n_bins = 100\n",
    "\n",
    "# creacion del objeto historgama\n",
    "n, bins, patches = ax.hist(\n",
    "    delivered['delta_days'],\n",
    "    n_bins\n",
    "    )\n",
    "\n",
    "ax.set_title('Fig.1 Histograma de frequencias de delta_days')\n",
    "ax.set_xlabel('Diferencia entre el tiempo estimado y tiempo real de entrega')\n",
    "ax.set_ylabel('# Ocurrencias')"
   ]
  },
  {
   "attachments": {},
   "cell_type": "markdown",
   "metadata": {},
   "source": [
    "La gráfica anterior muestra la cantidad de veces que se observaron diferencias de tiempo entre la estimación y la entrega real. Como se aprencia hay pico alrededor del valor -11, porque como sabemos las órdenes tienden a llega antes de tiempo\n",
    "\n",
    "Además, dicha gráfica está **sesgada a la izquierda**, antes del valor cero, lo que significa que la mayoria de las órdenes llegan antes del tiempo estimado. Los valores extremos  a la derecha indican retrasos, que como se ve pueden superar hasta los 50 días."
   ]
  },
  {
   "attachments": {},
   "cell_type": "markdown",
   "metadata": {},
   "source": [
    "En estadística, existe un concepto denominado `regla empírica débil` que nos permite relacionar a la distribución de los datos junto con la media y la desviación estándar. En esencia, nos permite asegurar que aproximadamente 88.88% de los datos, se encontrarán entre el intervalo definido por la media y tres veces la desviación estándar.\n",
    "\n",
    "Esto se puede constatar empíricamente en nuestro histograma, añadiendo las regiones descritan previamente:"
   ]
  },
  {
   "cell_type": "code",
   "execution_count": 53,
   "metadata": {},
   "outputs": [
    {
     "data": {
      "image/png": "[encoded data removed]",
      "text/plain": [
       "<Figure size 1000x500 with 1 Axes>"
      ]
     },
     "metadata": {},
     "output_type": "display_data"
    }
   ],
   "source": [
    "# figura y eje de la figura\n",
    "fig, ax = plt.subplots(figsize=(10, 5))\n",
    "\n",
    "# numero de intervalos para conteos\n",
    "n_bins = 100\n",
    "\n",
    "# creacion del objeto historgama\n",
    "n, bins, patches = ax.hist(\n",
    "    delivered['delta_days'],\n",
    "    n_bins\n",
    "    )\n",
    "\n",
    "ax.set_title('Fig.2 Histograma de frequencias de delta_days y regla empírica débil' )\n",
    "ax.set_xlabel('Diferencia entre el tiempo estimado y tiempo real de entrega')\n",
    "ax.set_ylabel('# Ocurrencias')\n",
    "\n",
    "## Agrega la media y las regiones de la regla empírica débil\n",
    "## Linea para la media\n",
    "plt.axvline(\n",
    "    oilst['delta_days'].mean(),\n",
    "    color='r',\n",
    "    linestyle='dashed',\n",
    "    linewidth=3)\n",
    "\n",
    "## Linea para la media + 3 veces la desv. estandar\n",
    "plt.axvline(\n",
    "    oilst['delta_days'].mean() + 3*oilst['delta_days'].std(),\n",
    "    color='y',\n",
    "    linestyle='dashed',\n",
    "    linewidth=2)\n",
    "\n",
    "## Linea para la media - 3 veces la desv. estandar\n",
    "plt.axvline(\n",
    "    oilst['delta_days'].mean() - 3*oilst['delta_days'].std(),\n",
    "    color='y',\n",
    "    linestyle='dashed',\n",
    "    linewidth=2)\n",
    "\n",
    "## limites de la figura\n",
    "min_ylim, max_ylim = plt.ylim()\n",
    "\n",
    "## Etiquetas\n",
    "plt.text(\n",
    "    delivered['delta_days'].mean()*1.1,\n",
    "    max_ylim*0.9,\n",
    "    'Promedio: {:.2f}'.format(oilst['delta_days'].mean())\n",
    "    )\n",
    "\n",
    "plt.show()"
   ]
  },
  {
   "cell_type": "code",
   "execution_count": 54,
   "metadata": {},
   "outputs": [
    {
     "name": "stdout",
     "output_type": "stream",
     "text": [
      "La mayoria de los datos se ubican en el intervalo:\n",
      "(media + 3 desv. std , media - 3 desv. std)=  ( -41.7 , 19.4 )\n"
     ]
    }
   ],
   "source": [
    "print(\"La mayoria de los datos se ubican en el intervalo:\")\n",
    "\n",
    "print(\n",
    "    \"(media + 3 desv. std , media - 3 desv. std)= \",'(',\n",
    "    round(oilst['delta_days'].mean() - 3*oilst['delta_days'].std(),1), \",\",\n",
    "    round(oilst['delta_days'].mean() + 3*oilst['delta_days'].std(),1),\")\",\n",
    "    )"
   ]
  },
  {
   "attachments": {},
   "cell_type": "markdown",
   "metadata": {},
   "source": [
    "Una forma alternativa de visualizar lo anterior, es echar mano la **función de distribución acumulativa empírica**. \n",
    "\n",
    "Dicha herramienta es una manera de resumir datos y entender cómo se distribuyen los valores en un conjunto de datos, pues esencialmente, para una lista ordenada de números, nos permite entender cuántos de los valores son menores o iguales a un número específico y con ello entender de manera aproximada cuantos de los casos ocurren en la realidad y en que proporción, aproximando la probabilidad de un fenómeno.\n",
    "\n",
    "Por ejemplo, si tenemos una lista de edades y queremos saber cuántas personas tienen 30 años o menos, \n",
    "podemos usar la función empírica de distribución cumulativa. Si hay 50 personas en total y 20 tienen 30 años o menos, entonces la función nos dirá que el 40% de las personas tienen 30 años o menos. Podemos repetir esto para cada edad y obtener una imagen completa de cómo se distribuyen las edades en nuestro conjunto de datos.\n",
    "\n",
    "En el caso de la variable `delta_days`, la **función de distribución acumulativa empírica** se puede visualizar mediante la función `ecdfplot`. En el **eje X** se tiene el valor de la variable en estudio y en el **eje Y** se encuentra la proporción de casos que corresponden a valores menores o iguales a los del **eje X** ."
   ]
  },
  {
   "attachments": {},
   "cell_type": "markdown",
   "metadata": {},
   "source": [
    "En Python, se puede construir la función **función de distribución acumulativa empírica** usando las utilidades de Matplotlib `.hist` (https://www.google.com/search?client=safari&rls=en&q=hist+matplotlib&ie=UTF-8&oe=UTF-8) junto con sus parámetros `cumulative=True`, `histtype='step'` y ` density=True`"
   ]
  },
  {
   "cell_type": "code",
   "execution_count": 55,
   "metadata": {},
   "outputs": [
    {
     "data": {
      "image/png": "[encoded data removed]",
      "text/plain": [
       "<Figure size 1500x600 with 1 Axes>"
      ]
     },
     "metadata": {},
     "output_type": "display_data"
    }
   ],
   "source": [
    "fig, ax = plt.subplots(figsize=(15, 6))\n",
    "\n",
    "n_bins = 300\n",
    "\n",
    "# plot the cumulative histogram\n",
    "n, bins, patches = ax.hist(\n",
    "    oilst.query(\"year > 2017\")['delta_days'],\n",
    "    n_bins,\n",
    "    density=True,\n",
    "    histtype='step',\n",
    "    cumulative=True,\n",
    "    label='Empirical'\n",
    "    )\n",
    "\n",
    "# tidy up the figure\n",
    "ax.grid(True)\n",
    "ax.legend(loc='right')\n",
    "ax.set_title('Fig. 3 Función de distribución acumulativa empírica')\n",
    "ax.set_xlabel('Diferencia entre el tiempo estimado y tiempo real de entrega')\n",
    "ax.set_ylabel('Proporción de ocurrencia')\n",
    "\n",
    "plt.show()"
   ]
  },
  {
   "attachments": {},
   "cell_type": "markdown",
   "metadata": {},
   "source": [
    "En esta gráfica se puede apreciar que casi con más del 90% de probabilidad, las órdenes llegan en tiempo (coimparando el valor cero en el eje X vs la proporción de ocurrencias en el eje Y)."
   ]
  },
  {
   "attachments": {},
   "cell_type": "markdown",
   "metadata": {},
   "source": [
    "Existe un concepto matemático llamda kernel gaussiano que permite aproximar dicha probabilidad y que en Python se calcula con la herramien `gaussian_kde` de la librería Scipy.\n",
    "\n",
    "A continuación se aproximarán los valores que vemos en el diagrama de la función de distribución acumulativa empírica"
   ]
  },
  {
   "cell_type": "code",
   "execution_count": 56,
   "metadata": {},
   "outputs": [],
   "source": [
    "# Aproxima los valores de la función de\n",
    "#  distribución acumulativa empírica\n",
    "import scipy.stats\n",
    "\n",
    "# Nota: el metodo .dropna() elimina valores nulos\n",
    "kde = scipy.stats.gaussian_kde(\n",
    "    oilst['delta_days'].dropna() \n",
    "    )"
   ]
  },
  {
   "attachments": {},
   "cell_type": "markdown",
   "metadata": {},
   "source": [
    "Ahora estamos en condiciones de aproximar la probabilidad de recibir un pedido antes del tiempo estimado:"
   ]
  },
  {
   "cell_type": "code",
   "execution_count": 57,
   "metadata": {},
   "outputs": [
    {
     "name": "stdout",
     "output_type": "stream",
     "text": [
      "Probabilidad:  89.06667126779072\n"
     ]
    }
   ],
   "source": [
    "# Probabilidad de recibir entre un mes y hasta \n",
    "# en cero dias antes de lo estimado\n",
    "print(\"Probabilidad: \",kde.integrate_box_1d(-30, 0)*100)"
   ]
  },
  {
   "attachments": {},
   "cell_type": "markdown",
   "metadata": {},
   "source": [
    "Del mismo modo, se puede calcular la probabilidad de recibir el pedio con retrazo moderado (entre cero dias de lo estimado y hasta en menos de 3):"
   ]
  },
  {
   "cell_type": "code",
   "execution_count": 58,
   "metadata": {},
   "outputs": [
    {
     "name": "stdout",
     "output_type": "stream",
     "text": [
      "Probabilidad:  2.9958771692560036\n"
     ]
    }
   ],
   "source": [
    "# Probabilidad de recibir con un retraso moderado\n",
    "print(\"Probabilidad: \",kde.integrate_box_1d(0, 3)*100)"
   ]
  },
  {
   "attachments": {},
   "cell_type": "markdown",
   "metadata": {},
   "source": [
    "**Pregunta:**\n",
    "\n",
    "* ¿Cuál es la probabilidad de recibir un pedido entre 3 y 7 dias después de lo estimado?\n",
    "* ¿Cuál es la probabilidad de recibir un pedido entre 3 y 15 dias después de lo estimado?\n",
    "* ¿Cuál es la probabilidad de recibir un pedido después de 3 dias después de lo estimado? Hint: se puede usar una fecha muy larga como limite superior derecho, por ejemplo 200 días"
   ]
  },
  {
   "cell_type": "code",
   "execution_count": 74,
   "metadata": {},
   "outputs": [
    {
     "name": "stdout",
     "output_type": "stream",
     "text": [
      "Probabilidad:  1.97\n",
      "Probabilidad:  0.56\n",
      "Probabilidad:  5.52\n"
     ]
    }
   ],
   "source": [
    "print(\"Probabilidad: \",(kde.integrate_box_1d(3, 7)*100).round(2))\n",
    "print(\"Probabilidad: \",(kde.integrate_box_1d(3, 4)*100).round(2))\n",
    "print(\"Probabilidad: \",(kde.integrate_box_1d(3, 200)*100).round(2))\n"
   ]
  },
  {
   "attachments": {},
   "cell_type": "markdown",
   "metadata": {},
   "source": [
    "### 4.7 Análsis de correlación lineal\n",
    "\n",
    "La correlación lineal es una herramienta que se utiliza para analizar la relación lineal entre varias variables. En esencia, lo que hace es medir cuánto se parecen dos variables y cuánto se influyen mutuamente.\n",
    "\n",
    "Formalmente, se denomina **Coeficiente de correlación de Pearson** y se calcula como un coeficiente entre dos variables numéricas, que oscila entre entre -1 y 1, donde -1 significa que las dos variables están completamente inversamente relacionadas (si una aumenta, la otra disminuye) y 1 significa que las dos variables están completamente relacionadas (si una aumenta, la otra también lo hace). En el caso cercano a cero, esto significa que no hay correlacion de tipo lineal entre estas\n",
    "\n",
    "Si queremos detectar que una variable tiene correlación lineal con otrra, su coeficiente de correlación debe aproximarse lo más posible a -1 o 1. \n",
    "\n",
    "Debemos mencionar que la existenciade correlación lineal entre dos variables no implica que una cause a la otra; por ejemplo, la cantidad de helados que se venden en verano aumenta a la vez que la cantidad de quemaduras en la piel en la misma época, sin que alguna de ellas sea la causa de la otra. Sin embargo la correlación alta es un elemento deseable en cualquier análisis exploratorio para comenzar a indagar como es que un fenómeno cambia ante diversos factores. \n",
    "\n"
   ]
  },
  {
   "attachments": {},
   "cell_type": "markdown",
   "metadata": {},
   "source": [
    "Ahora veremos como cambia la distancia de los domicilios de los clientes a su centro de distribución más cercano (`distance_distribution_center`) con respecto al estatus del tiempo de entrega. Primero, podemos revisar los estadísticos básicos:"
   ]
  },
  {
   "cell_type": "code",
   "execution_count": 59,
   "metadata": {},
   "outputs": [
    {
     "data": {
      "text/html": [
       "<div>\n",
       "<style scoped>\n",
       "    .dataframe tbody tr th:only-of-type {\n",
       "        vertical-align: middle;\n",
       "    }\n",
       "\n",
       "    .dataframe tbody tr th {\n",
       "        vertical-align: top;\n",
       "    }\n",
       "\n",
       "    .dataframe thead th {\n",
       "        text-align: right;\n",
       "    }\n",
       "</style>\n",
       "<table border=\"1\" class=\"dataframe\">\n",
       "  <thead>\n",
       "    <tr style=\"text-align: right;\">\n",
       "      <th></th>\n",
       "      <th>count</th>\n",
       "      <th>mean</th>\n",
       "      <th>std</th>\n",
       "      <th>min</th>\n",
       "      <th>25%</th>\n",
       "      <th>50%</th>\n",
       "      <th>75%</th>\n",
       "      <th>max</th>\n",
       "    </tr>\n",
       "    <tr>\n",
       "      <th>delay_status</th>\n",
       "      <th></th>\n",
       "      <th></th>\n",
       "      <th></th>\n",
       "      <th></th>\n",
       "      <th></th>\n",
       "      <th></th>\n",
       "      <th></th>\n",
       "      <th></th>\n",
       "    </tr>\n",
       "  </thead>\n",
       "  <tbody>\n",
       "    <tr>\n",
       "      <th>long_delay</th>\n",
       "      <td>5164.0</td>\n",
       "      <td>6415.812481</td>\n",
       "      <td>56385.831066</td>\n",
       "      <td>6.52</td>\n",
       "      <td>41.405</td>\n",
       "      <td>141.95</td>\n",
       "      <td>782.2275</td>\n",
       "      <td>1349721.75</td>\n",
       "    </tr>\n",
       "    <tr>\n",
       "      <th>on_time</th>\n",
       "      <td>88644.0</td>\n",
       "      <td>50.509725</td>\n",
       "      <td>29.120090</td>\n",
       "      <td>0.01</td>\n",
       "      <td>25.230</td>\n",
       "      <td>50.62</td>\n",
       "      <td>75.6400</td>\n",
       "      <td>101.00</td>\n",
       "    </tr>\n",
       "    <tr>\n",
       "      <th>short_delay</th>\n",
       "      <td>2662.0</td>\n",
       "      <td>2.647070</td>\n",
       "      <td>1.559544</td>\n",
       "      <td>1.00</td>\n",
       "      <td>1.580</td>\n",
       "      <td>2.01</td>\n",
       "      <td>2.9700</td>\n",
       "      <td>7.29</td>\n",
       "    </tr>\n",
       "  </tbody>\n",
       "</table>\n",
       "</div>"
      ],
      "text/plain": [
       "                count         mean           std   min     25%     50%  \\\n",
       "delay_status                                                             \n",
       "long_delay     5164.0  6415.812481  56385.831066  6.52  41.405  141.95   \n",
       "on_time       88644.0    50.509725     29.120090  0.01  25.230   50.62   \n",
       "short_delay    2662.0     2.647070      1.559544  1.00   1.580    2.01   \n",
       "\n",
       "                   75%         max  \n",
       "delay_status                        \n",
       "long_delay    782.2275  1349721.75  \n",
       "on_time        75.6400      101.00  \n",
       "short_delay     2.9700        7.29  "
      ]
     },
     "execution_count": 59,
     "metadata": {},
     "output_type": "execute_result"
    }
   ],
   "source": [
    "delivered.groupby(['delay_status'])['distance_distribution_center'].describe()"
   ]
  },
  {
   "attachments": {},
   "cell_type": "markdown",
   "metadata": {},
   "source": [
    "Ahora usaremos el métod `.corr` de pandas sobre las variables numéricas `total_sales`, `total_products`, `distance_distribution_center`y `delta_days`."
   ]
  },
  {
   "cell_type": "code",
   "execution_count": 60,
   "metadata": {},
   "outputs": [
    {
     "data": {
      "text/html": [
       "<div>\n",
       "<style scoped>\n",
       "    .dataframe tbody tr th:only-of-type {\n",
       "        vertical-align: middle;\n",
       "    }\n",
       "\n",
       "    .dataframe tbody tr th {\n",
       "        vertical-align: top;\n",
       "    }\n",
       "\n",
       "    .dataframe thead th {\n",
       "        text-align: right;\n",
       "    }\n",
       "</style>\n",
       "<table border=\"1\" class=\"dataframe\">\n",
       "  <thead>\n",
       "    <tr style=\"text-align: right;\">\n",
       "      <th></th>\n",
       "      <th>total_sales</th>\n",
       "      <th>total_products</th>\n",
       "      <th>distance_distribution_center</th>\n",
       "      <th>delta_days</th>\n",
       "    </tr>\n",
       "  </thead>\n",
       "  <tbody>\n",
       "    <tr>\n",
       "      <th>total_sales</th>\n",
       "      <td>1.0000</td>\n",
       "      <td>0.1535</td>\n",
       "      <td>0.0069</td>\n",
       "      <td>-0.0136</td>\n",
       "    </tr>\n",
       "    <tr>\n",
       "      <th>total_products</th>\n",
       "      <td>0.1535</td>\n",
       "      <td>1.0000</td>\n",
       "      <td>-0.0024</td>\n",
       "      <td>-0.0320</td>\n",
       "    </tr>\n",
       "    <tr>\n",
       "      <th>distance_distribution_center</th>\n",
       "      <td>0.0069</td>\n",
       "      <td>-0.0024</td>\n",
       "      <td>1.0000</td>\n",
       "      <td>0.3312</td>\n",
       "    </tr>\n",
       "    <tr>\n",
       "      <th>delta_days</th>\n",
       "      <td>-0.0136</td>\n",
       "      <td>-0.0320</td>\n",
       "      <td>0.3312</td>\n",
       "      <td>1.0000</td>\n",
       "    </tr>\n",
       "  </tbody>\n",
       "</table>\n",
       "</div>"
      ],
      "text/plain": [
       "                              total_sales  total_products  \\\n",
       "total_sales                        1.0000          0.1535   \n",
       "total_products                     0.1535          1.0000   \n",
       "distance_distribution_center       0.0069         -0.0024   \n",
       "delta_days                        -0.0136         -0.0320   \n",
       "\n",
       "                              distance_distribution_center  delta_days  \n",
       "total_sales                                         0.0069     -0.0136  \n",
       "total_products                                     -0.0024     -0.0320  \n",
       "distance_distribution_center                        1.0000      0.3312  \n",
       "delta_days                                          0.3312      1.0000  "
      ]
     },
     "execution_count": 60,
     "metadata": {},
     "output_type": "execute_result"
    }
   ],
   "source": [
    "delivered[\n",
    "    ['total_sales', 'total_products', 'distance_distribution_center', 'delta_days']\n",
    "    ].corr().round(4)"
   ]
  },
  {
   "attachments": {},
   "cell_type": "markdown",
   "metadata": {},
   "source": [
    "En esta tabla no se aprecia correlación entre las variables. Repitamos los cálculos pero en el caso de que ordenes entregas, que presentaron retrazos prolongados. "
   ]
  },
  {
   "cell_type": "code",
   "execution_count": 89,
   "metadata": {},
   "outputs": [
    {
     "data": {
      "text/html": [
       "<div>\n",
       "<style scoped>\n",
       "    .dataframe tbody tr th:only-of-type {\n",
       "        vertical-align: middle;\n",
       "    }\n",
       "\n",
       "    .dataframe tbody tr th {\n",
       "        vertical-align: top;\n",
       "    }\n",
       "\n",
       "    .dataframe thead th {\n",
       "        text-align: right;\n",
       "    }\n",
       "</style>\n",
       "<table border=\"1\" class=\"dataframe\">\n",
       "  <thead>\n",
       "    <tr style=\"text-align: right;\">\n",
       "      <th></th>\n",
       "      <th>total_sales</th>\n",
       "      <th>total_products</th>\n",
       "      <th>distance_distribution_center</th>\n",
       "      <th>delta_days</th>\n",
       "    </tr>\n",
       "  </thead>\n",
       "  <tbody>\n",
       "    <tr>\n",
       "      <th>total_sales</th>\n",
       "      <td>1.0000</td>\n",
       "      <td>0.0756</td>\n",
       "      <td>0.0179</td>\n",
       "      <td>0.0187</td>\n",
       "    </tr>\n",
       "    <tr>\n",
       "      <th>total_products</th>\n",
       "      <td>0.0756</td>\n",
       "      <td>1.0000</td>\n",
       "      <td>-0.0035</td>\n",
       "      <td>-0.0179</td>\n",
       "    </tr>\n",
       "    <tr>\n",
       "      <th>distance_distribution_center</th>\n",
       "      <td>0.0179</td>\n",
       "      <td>-0.0035</td>\n",
       "      <td>1.0000</td>\n",
       "      <td>0.7609</td>\n",
       "    </tr>\n",
       "    <tr>\n",
       "      <th>delta_days</th>\n",
       "      <td>0.0187</td>\n",
       "      <td>-0.0179</td>\n",
       "      <td>0.7609</td>\n",
       "      <td>1.0000</td>\n",
       "    </tr>\n",
       "  </tbody>\n",
       "</table>\n",
       "</div>"
      ],
      "text/plain": [
       "                              total_sales  total_products  \\\n",
       "total_sales                        1.0000          0.0756   \n",
       "total_products                     0.0756          1.0000   \n",
       "distance_distribution_center       0.0179         -0.0035   \n",
       "delta_days                         0.0187         -0.0179   \n",
       "\n",
       "                              distance_distribution_center  delta_days  \n",
       "total_sales                                         0.0179      0.0187  \n",
       "total_products                                     -0.0035     -0.0179  \n",
       "distance_distribution_center                        1.0000      0.7609  \n",
       "delta_days                                          0.7609      1.0000  "
      ]
     },
     "execution_count": 89,
     "metadata": {},
     "output_type": "execute_result"
    }
   ],
   "source": [
    "# Completa el codigo provisto\n",
    "filter = (\"delay_status == 'long_delay'\") # filtro para definir ordenes con retraso prolongado\n",
    "\n",
    "# lista de variables numericas de ventas, productos, retrasos y distancia al centro de distribucion\n",
    "numerical_variables = ['total_sales', 'total_products', 'distance_distribution_center','delta_days' ]\n",
    "\n",
    "# calculo de matriz de correlacion\n",
    "delivered.query(filter)[\n",
    "    numerical_variables\n",
    "    ].corr().round(4)\n"
   ]
  },
  {
   "attachments": {},
   "cell_type": "markdown",
   "metadata": {},
   "source": [
    "**Preguntas**\n",
    "\n",
    "* ¿Existe correlación fuerte entre alguna de las variables? De ser el caso, ¿entre cuales?\n",
    "* ¿Qué es lo que implica lo anterior para el problema de los retrazos prolongados en las entregas a los clientes de Oilst?"
   ]
  },
  {
   "attachments": {},
   "cell_type": "markdown",
   "metadata": {},
   "source": [
    "## 5. Entregables\n",
    "\n",
    "En esta sección los entregables consisten en un script en Python junto con un tabla/imagen en un archivo en formato específico:\n",
    "\n",
    "A. Script que calcule la proporción que han representado las ventas de órdenes completas de Oilst dentro de los categorías de `delay_status` y a los largo de los trimestres de 2016 a 2018. El resultado de este script deberá ser un tabla denominada `prop_sales_delay_status_by_quarte.csv`.\n",
    "\n",
    "B. Programa que construya una tabla con la cantidad conteos cuantas órdenes que existieron por cantidad de productos dentro de la orden y el tipo de retraso de las categorías `delay_status`. El resultado de este script deberá ser un tabla denominada `count_orders_basket_size_by_delay_status.csv`.\n",
    "\n",
    "C. Programa que construya el histograma de frecuencias de la variable `total_sales`, junto con la el promedio intervalos que define la regla empírica débil para encontrar el 88.88% de los datos alrededor del promedio, restringiendo el análisis las órdenes que tienen status completo. El resultado de este script deberá ser una figura denominada `histogram_sales_long_delay.png`.\n",
    "\n",
    "D. Script que calcula la matriz de correlación entre las variables `total_sales`, `total_products`, `delta_days` y `distance_distribution_center` para órdenes completadas que cuya fecha de entrega sobrepasa los 10 días de la fecha estimada para la entrega."
   ]
  }
 ],
 "metadata": {
  "kernelspec": {
   "display_name": "aument_conda",
   "language": "python",
   "name": "python3"
  },
  "language_info": {
   "codemirror_mode": {
    "name": "ipython",
    "version": 3
   },
   "file_extension": ".py",
   "mimetype": "text/x-python",
   "name": "python",
   "nbconvert_exporter": "python",
   "pygments_lexer": "ipython3",
   "version": "3.10.10"
  },
  "orig_nbformat": 4
 },
 "nbformat": 4,
 "nbformat_minor": 2
}
